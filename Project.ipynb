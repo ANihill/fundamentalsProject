{
 "cells": [
  {
   "cell_type": "code",
   "execution_count": 1,
   "metadata": {},
   "outputs": [],
   "source": [
    "# import python packages\n",
    "import pandas as pd\n",
    "import numpy as np\n",
    "import seaborn as sns\n",
    "import matplotlib.pyplot as plt\n",
    "from iteround import saferound\n",
    "\n",
    "# matplotlib magic command to make sure plots appear inline\n",
    "%matplotlib inline\n",
    "\n",
    "# set seaborn colour codes and palette\n",
    "sns.set(color_codes=True)\n",
    "sns.set_palette(\"Set2\");\n",
    "\n",
    "#set figure size\n",
    "plt.rcParams['figure.figsize'] = [15, 4]"
   ]
  },
  {
   "cell_type": "markdown",
   "metadata": {},
   "source": [
    "# Real World Data"
   ]
  },
  {
   "cell_type": "code",
   "execution_count": 2,
   "metadata": {},
   "outputs": [],
   "source": [
    "# imported csv \n",
    "pl = pd.read_csv(\"league_table.csv\", index_col=\"Team\", names=[\"Team\", \"Home(F)\", \"Home(A)\", \"Points(H)\", \"Away(F)\", \"Away(A)\", \"Points(A)\" ]);"
   ]
  },
  {
   "cell_type": "markdown",
   "metadata": {},
   "source": [
    "This notebook will explored the goals scored, and points gained, by premier league team at home and away from home, over the course of a season. The dataset used is an existing dataset that I had created based on the results of the last Premier League season.\n",
    "\n",
    "Teams' performance at home tends to be better than their performance away from from. Initial analysis will be carried out on the dataset, examining the goals scored and conceded, goal difference, and points gained at home and away from home.\n",
    "\n",
    "When that analysis has been completed random data will be generated, using the numpy package, to simulate a league table with those variables."
   ]
  },
  {
   "cell_type": "code",
   "execution_count": 3,
   "metadata": {},
   "outputs": [
    {
     "data": {
      "text/html": [
       "<div>\n",
       "<style scoped>\n",
       "    .dataframe tbody tr th:only-of-type {\n",
       "        vertical-align: middle;\n",
       "    }\n",
       "\n",
       "    .dataframe tbody tr th {\n",
       "        vertical-align: top;\n",
       "    }\n",
       "\n",
       "    .dataframe thead th {\n",
       "        text-align: right;\n",
       "    }\n",
       "</style>\n",
       "<table border=\"1\" class=\"dataframe\">\n",
       "  <thead>\n",
       "    <tr style=\"text-align: right;\">\n",
       "      <th></th>\n",
       "      <th>Total(F)</th>\n",
       "      <th>Total(A)</th>\n",
       "      <th>Total(Dif)</th>\n",
       "      <th>Total(P)</th>\n",
       "    </tr>\n",
       "    <tr>\n",
       "      <th>Team</th>\n",
       "      <th></th>\n",
       "      <th></th>\n",
       "      <th></th>\n",
       "      <th></th>\n",
       "    </tr>\n",
       "  </thead>\n",
       "  <tbody>\n",
       "    <tr>\n",
       "      <th>Manchester City</th>\n",
       "      <td>95</td>\n",
       "      <td>23</td>\n",
       "      <td>72</td>\n",
       "      <td>98</td>\n",
       "    </tr>\n",
       "    <tr>\n",
       "      <th>Liverpool</th>\n",
       "      <td>89</td>\n",
       "      <td>22</td>\n",
       "      <td>67</td>\n",
       "      <td>97</td>\n",
       "    </tr>\n",
       "    <tr>\n",
       "      <th>Chelsea</th>\n",
       "      <td>63</td>\n",
       "      <td>39</td>\n",
       "      <td>24</td>\n",
       "      <td>72</td>\n",
       "    </tr>\n",
       "    <tr>\n",
       "      <th>Tottenham</th>\n",
       "      <td>67</td>\n",
       "      <td>39</td>\n",
       "      <td>28</td>\n",
       "      <td>71</td>\n",
       "    </tr>\n",
       "    <tr>\n",
       "      <th>Arsenal</th>\n",
       "      <td>73</td>\n",
       "      <td>51</td>\n",
       "      <td>22</td>\n",
       "      <td>70</td>\n",
       "    </tr>\n",
       "    <tr>\n",
       "      <th>Manchester United</th>\n",
       "      <td>65</td>\n",
       "      <td>54</td>\n",
       "      <td>11</td>\n",
       "      <td>66</td>\n",
       "    </tr>\n",
       "    <tr>\n",
       "      <th>Wolves</th>\n",
       "      <td>47</td>\n",
       "      <td>46</td>\n",
       "      <td>1</td>\n",
       "      <td>57</td>\n",
       "    </tr>\n",
       "    <tr>\n",
       "      <th>Everton</th>\n",
       "      <td>54</td>\n",
       "      <td>46</td>\n",
       "      <td>8</td>\n",
       "      <td>54</td>\n",
       "    </tr>\n",
       "    <tr>\n",
       "      <th>Leicester City</th>\n",
       "      <td>51</td>\n",
       "      <td>48</td>\n",
       "      <td>3</td>\n",
       "      <td>52</td>\n",
       "    </tr>\n",
       "    <tr>\n",
       "      <th>West Ham</th>\n",
       "      <td>52</td>\n",
       "      <td>55</td>\n",
       "      <td>-3</td>\n",
       "      <td>52</td>\n",
       "    </tr>\n",
       "    <tr>\n",
       "      <th>Watford</th>\n",
       "      <td>52</td>\n",
       "      <td>59</td>\n",
       "      <td>-7</td>\n",
       "      <td>50</td>\n",
       "    </tr>\n",
       "    <tr>\n",
       "      <th>Crystal Palace</th>\n",
       "      <td>51</td>\n",
       "      <td>53</td>\n",
       "      <td>-2</td>\n",
       "      <td>49</td>\n",
       "    </tr>\n",
       "    <tr>\n",
       "      <th>Newcastle United</th>\n",
       "      <td>42</td>\n",
       "      <td>48</td>\n",
       "      <td>-6</td>\n",
       "      <td>45</td>\n",
       "    </tr>\n",
       "    <tr>\n",
       "      <th>Bournemouth</th>\n",
       "      <td>56</td>\n",
       "      <td>70</td>\n",
       "      <td>-14</td>\n",
       "      <td>45</td>\n",
       "    </tr>\n",
       "    <tr>\n",
       "      <th>Burnley</th>\n",
       "      <td>45</td>\n",
       "      <td>68</td>\n",
       "      <td>-23</td>\n",
       "      <td>40</td>\n",
       "    </tr>\n",
       "    <tr>\n",
       "      <th>Southampton</th>\n",
       "      <td>45</td>\n",
       "      <td>65</td>\n",
       "      <td>-20</td>\n",
       "      <td>39</td>\n",
       "    </tr>\n",
       "    <tr>\n",
       "      <th>Brighton</th>\n",
       "      <td>35</td>\n",
       "      <td>60</td>\n",
       "      <td>-25</td>\n",
       "      <td>36</td>\n",
       "    </tr>\n",
       "    <tr>\n",
       "      <th>Cardiff</th>\n",
       "      <td>34</td>\n",
       "      <td>69</td>\n",
       "      <td>-35</td>\n",
       "      <td>34</td>\n",
       "    </tr>\n",
       "    <tr>\n",
       "      <th>Fulham</th>\n",
       "      <td>34</td>\n",
       "      <td>81</td>\n",
       "      <td>-47</td>\n",
       "      <td>26</td>\n",
       "    </tr>\n",
       "    <tr>\n",
       "      <th>Huddersfield</th>\n",
       "      <td>22</td>\n",
       "      <td>76</td>\n",
       "      <td>-54</td>\n",
       "      <td>16</td>\n",
       "    </tr>\n",
       "  </tbody>\n",
       "</table>\n",
       "</div>"
      ],
      "text/plain": [
       "                   Total(F)  Total(A)  Total(Dif)  Total(P)\n",
       "Team                                                       \n",
       "Manchester City          95        23          72        98\n",
       "Liverpool                89        22          67        97\n",
       "Chelsea                  63        39          24        72\n",
       "Tottenham                67        39          28        71\n",
       "Arsenal                  73        51          22        70\n",
       "Manchester United        65        54          11        66\n",
       "Wolves                   47        46           1        57\n",
       "Everton                  54        46           8        54\n",
       "Leicester City           51        48           3        52\n",
       "West Ham                 52        55          -3        52\n",
       "Watford                  52        59          -7        50\n",
       "Crystal Palace           51        53          -2        49\n",
       "Newcastle United         42        48          -6        45\n",
       "Bournemouth              56        70         -14        45\n",
       "Burnley                  45        68         -23        40\n",
       "Southampton              45        65         -20        39\n",
       "Brighton                 35        60         -25        36\n",
       "Cardiff                  34        69         -35        34\n",
       "Fulham                   34        81         -47        26\n",
       "Huddersfield             22        76         -54        16"
      ]
     },
     "execution_count": 3,
     "metadata": {},
     "output_type": "execute_result"
    }
   ],
   "source": [
    "# added new column of total goals scored\n",
    "pl[\"Total(F)\"] = pl[\"Home(F)\"] + pl[\"Away(F)\"]\n",
    "# added new column of total goals conceded\n",
    "pl[\"Total(A)\"] = pl[\"Home(A)\"] + pl[\"Away(A)\"]\n",
    "# added new column of difference between goals scored and conceded\n",
    "pl[\"Total(Dif)\"]= pl[\"Total(F)\"] - pl[\"Total(A)\"]\n",
    "# added new column with total points\n",
    "pl[\"Total(P)\"] = pl[\"Points(H)\"] + pl[\"Points(A)\"]\n",
    "\n",
    "# created dataframe with total goals for, against, difference, and total points\n",
    "total = pl[[\"Total(F)\", \"Total(A)\", \"Total(Dif)\", \"Total(P)\"]]\n",
    "total = total.sort_values(by = \"Total(P)\", ascending=False);\n",
    "total"
   ]
  },
  {
   "cell_type": "markdown",
   "metadata": {},
   "source": [
    "The original dataset only contains data seperated by home and away tables. As such, a combined dataframe was created. This dataframe will used as a reference point for the randomly generated league table."
   ]
  },
  {
   "cell_type": "code",
   "execution_count": 4,
   "metadata": {},
   "outputs": [
    {
     "data": {
      "text/html": [
       "<div>\n",
       "<style scoped>\n",
       "    .dataframe tbody tr th:only-of-type {\n",
       "        vertical-align: middle;\n",
       "    }\n",
       "\n",
       "    .dataframe tbody tr th {\n",
       "        vertical-align: top;\n",
       "    }\n",
       "\n",
       "    .dataframe thead th {\n",
       "        text-align: right;\n",
       "    }\n",
       "</style>\n",
       "<table border=\"1\" class=\"dataframe\">\n",
       "  <thead>\n",
       "    <tr style=\"text-align: right;\">\n",
       "      <th></th>\n",
       "      <th>Total(F)</th>\n",
       "      <th>Total(A)</th>\n",
       "      <th>Total(Dif)</th>\n",
       "      <th>Total(P)</th>\n",
       "    </tr>\n",
       "  </thead>\n",
       "  <tbody>\n",
       "    <tr>\n",
       "      <th>count</th>\n",
       "      <td>20.000000</td>\n",
       "      <td>20.000000</td>\n",
       "      <td>20.000000</td>\n",
       "      <td>20.000000</td>\n",
       "    </tr>\n",
       "    <tr>\n",
       "      <th>mean</th>\n",
       "      <td>53.600000</td>\n",
       "      <td>53.600000</td>\n",
       "      <td>0.000000</td>\n",
       "      <td>53.450000</td>\n",
       "    </tr>\n",
       "    <tr>\n",
       "      <th>std</th>\n",
       "      <td>18.071204</td>\n",
       "      <td>15.752694</td>\n",
       "      <td>32.371202</td>\n",
       "      <td>21.007455</td>\n",
       "    </tr>\n",
       "    <tr>\n",
       "      <th>min</th>\n",
       "      <td>22.000000</td>\n",
       "      <td>22.000000</td>\n",
       "      <td>-54.000000</td>\n",
       "      <td>16.000000</td>\n",
       "    </tr>\n",
       "    <tr>\n",
       "      <th>25%</th>\n",
       "      <td>44.250000</td>\n",
       "      <td>46.000000</td>\n",
       "      <td>-20.750000</td>\n",
       "      <td>39.750000</td>\n",
       "    </tr>\n",
       "    <tr>\n",
       "      <th>50%</th>\n",
       "      <td>51.500000</td>\n",
       "      <td>53.500000</td>\n",
       "      <td>-2.500000</td>\n",
       "      <td>51.000000</td>\n",
       "    </tr>\n",
       "    <tr>\n",
       "      <th>75%</th>\n",
       "      <td>63.500000</td>\n",
       "      <td>65.750000</td>\n",
       "      <td>13.750000</td>\n",
       "      <td>67.000000</td>\n",
       "    </tr>\n",
       "    <tr>\n",
       "      <th>max</th>\n",
       "      <td>95.000000</td>\n",
       "      <td>81.000000</td>\n",
       "      <td>72.000000</td>\n",
       "      <td>98.000000</td>\n",
       "    </tr>\n",
       "  </tbody>\n",
       "</table>\n",
       "</div>"
      ],
      "text/plain": [
       "        Total(F)   Total(A)  Total(Dif)   Total(P)\n",
       "count  20.000000  20.000000   20.000000  20.000000\n",
       "mean   53.600000  53.600000    0.000000  53.450000\n",
       "std    18.071204  15.752694   32.371202  21.007455\n",
       "min    22.000000  22.000000  -54.000000  16.000000\n",
       "25%    44.250000  46.000000  -20.750000  39.750000\n",
       "50%    51.500000  53.500000   -2.500000  51.000000\n",
       "75%    63.500000  65.750000   13.750000  67.000000\n",
       "max    95.000000  81.000000   72.000000  98.000000"
      ]
     },
     "execution_count": 4,
     "metadata": {},
     "output_type": "execute_result"
    }
   ],
   "source": [
    "# description of total table\n",
    "total.describe()"
   ]
  },
  {
   "cell_type": "code",
   "execution_count": 5,
   "metadata": {},
   "outputs": [
    {
     "data": {
      "image/png": "[encoded data removed]",
      "text/plain": [
       "<Figure size 432x288 with 2 Axes>"
      ]
     },
     "metadata": {
      "needs_background": "light"
     },
     "output_type": "display_data"
    }
   ],
   "source": [
    "# distibution of goals scored at home across the league\n",
    "plt.subplot(1,2,1)\n",
    "sns.distplot(total[\"Total(F)\"])\n",
    "plt.title(\"Goals Scored\");\n",
    "\n",
    "# distribution of goals conceded at home across the league\n",
    "plt.subplot(1,2,2)\n",
    "sns.distplot(total[\"Total(A)\"])\n",
    "plt.title(\"Goals Conceded\");\n",
    "\n",
    "plt.tight_layout()"
   ]
  },
  {
   "cell_type": "code",
   "execution_count": 6,
   "metadata": {},
   "outputs": [
    {
     "data": {
      "image/png": "[encoded data removed]",
      "text/plain": [
       "<Figure size 432x288 with 1 Axes>"
      ]
     },
     "metadata": {
      "needs_background": "light"
     },
     "output_type": "display_data"
    }
   ],
   "source": [
    "# distribution of goal difference\n",
    "sns.distplot(total[\"Total(Dif)\"])\n",
    "plt.title(\"Goal Difference\");"
   ]
  },
  {
   "cell_type": "code",
   "execution_count": 76,
   "metadata": {},
   "outputs": [
    {
     "data": {
      "image/png": "[encoded data removed]",
      "text/plain": [
       "<Figure size 432x288 with 1 Axes>"
      ]
     },
     "metadata": {
      "needs_background": "light"
     },
     "output_type": "display_data"
    }
   ],
   "source": [
    "# distribution of total points\n",
    "sns.distplot(total[\"Total(P)\"], bins = 10)\n",
    "plt.title(\"Total Points\");"
   ]
  },
  {
   "cell_type": "markdown",
   "metadata": {},
   "source": [
    "The distribution of points seems to follow a normal(gaussian) distribution."
   ]
  },
  {
   "cell_type": "code",
   "execution_count": 78,
   "metadata": {},
   "outputs": [
    {
     "name": "stdout",
     "output_type": "stream",
     "text": [
      "Points Distribution appears to be Gaussian\n"
     ]
    }
   ],
   "source": [
    "# https://machinelearningmastery.com/a-gentle-introduction-to-normality-tests-in-python/\n",
    "\n",
    "from scipy.stats import shapiro\n",
    "\n",
    "stat, p = shapiro(total[\"Total(P)\"])\n",
    "\n",
    "alpha = 0.05\n",
    "\n",
    "if p > alpha:\n",
    "    print(\"Points Distribution appears to be Gaussian\")\n",
    "else:\n",
    "    print(\"Points distribution does not appear to be Gaussian\")"
   ]
  },
  {
   "cell_type": "markdown",
   "metadata": {},
   "source": [
    "This means that a normal distribution in numpy can be used to generate a teams points total."
   ]
  },
  {
   "cell_type": "code",
   "execution_count": null,
   "metadata": {},
   "outputs": [],
   "source": []
  },
  {
   "cell_type": "code",
   "execution_count": null,
   "metadata": {},
   "outputs": [],
   "source": []
  },
  {
   "cell_type": "code",
   "execution_count": null,
   "metadata": {},
   "outputs": [],
   "source": []
  },
  {
   "cell_type": "code",
   "execution_count": 8,
   "metadata": {},
   "outputs": [
    {
     "data": {
      "image/png": "[encoded data removed]",
      "text/plain": [
       "<Figure size 360x360 with 1 Axes>"
      ]
     },
     "metadata": {
      "needs_background": "light"
     },
     "output_type": "display_data"
    }
   ],
   "source": [
    "# bar plot of goals scored\n",
    "goals_for = sns.catplot(x=\"Team\", y=\"Total(F)\", kind=\"bar\", data=total.reset_index())\n",
    "goals_for.set_xticklabels(rotation=45, horizontalalignment=\"right\")\n",
    "plt.title(\"Goals Scored\");"
   ]
  },
  {
   "cell_type": "code",
   "execution_count": 9,
   "metadata": {},
   "outputs": [
    {
     "data": {
      "image/png": "[encoded data removed]",
      "text/plain": [
       "<Figure size 360x360 with 1 Axes>"
      ]
     },
     "metadata": {
      "needs_background": "light"
     },
     "output_type": "display_data"
    }
   ],
   "source": [
    "# bar plot of goals conceded\n",
    "goals_for = sns.catplot(x=\"Team\", y=\"Total(A)\", kind=\"bar\", data=total.reset_index())\n",
    "goals_for.set_xticklabels(rotation=45, horizontalalignment=\"right\")\n",
    "plt.title(\"Goals Conceded\");"
   ]
  },
  {
   "cell_type": "code",
   "execution_count": 10,
   "metadata": {},
   "outputs": [
    {
     "data": {
      "image/png": "[encoded data removed]",
      "text/plain": [
       "<Figure size 360x360 with 1 Axes>"
      ]
     },
     "metadata": {
      "needs_background": "light"
     },
     "output_type": "display_data"
    }
   ],
   "source": [
    "# bar plot of goal difference\n",
    "goal_dif = sns.catplot(x=\"Team\", y=\"Total(Dif)\", kind=\"bar\", data=total.reset_index())\n",
    "goal_dif.set_xticklabels(rotation=45, horizontalalignment=\"right\")\n",
    "plt.title(\"Goal Difference\");"
   ]
  },
  {
   "cell_type": "code",
   "execution_count": 11,
   "metadata": {},
   "outputs": [
    {
     "data": {
      "image/png": "[encoded data removed]",
      "text/plain": [
       "<Figure size 360x360 with 1 Axes>"
      ]
     },
     "metadata": {
      "needs_background": "light"
     },
     "output_type": "display_data"
    }
   ],
   "source": [
    "# regression plot between goal difference and total points\n",
    "sns.lmplot(x=\"Total(Dif)\", y=\"Total(P)\", data=total);"
   ]
  },
  {
   "cell_type": "markdown",
   "metadata": {},
   "source": [
    "There is a strong correlation between a team's goal difference and total points. Once random goal data has been generated for all teams, the goal difference may be used as the order in which to assign the points to teams."
   ]
  },
  {
   "cell_type": "code",
   "execution_count": 12,
   "metadata": {},
   "outputs": [
    {
     "data": {
      "image/png": "[encoded data removed]",
      "text/plain": [
       "<Figure size 360x360 with 1 Axes>"
      ]
     },
     "metadata": {
      "needs_background": "light"
     },
     "output_type": "display_data"
    }
   ],
   "source": [
    "# bar plot of goals scored at home\n",
    "goals_for = sns.catplot(x=\"Team\", y=\"Total(P)\", kind=\"bar\", data=total.reset_index())\n",
    "goals_for.set_xticklabels(rotation=45, horizontalalignment=\"right\")\n",
    "plt.title(\"Total Points\");"
   ]
  },
  {
   "cell_type": "markdown",
   "metadata": {},
   "source": [
    "## Home"
   ]
  },
  {
   "cell_type": "code",
   "execution_count": 13,
   "metadata": {},
   "outputs": [
    {
     "data": {
      "text/html": [
       "<div>\n",
       "<style scoped>\n",
       "    .dataframe tbody tr th:only-of-type {\n",
       "        vertical-align: middle;\n",
       "    }\n",
       "\n",
       "    .dataframe tbody tr th {\n",
       "        vertical-align: top;\n",
       "    }\n",
       "\n",
       "    .dataframe thead th {\n",
       "        text-align: right;\n",
       "    }\n",
       "</style>\n",
       "<table border=\"1\" class=\"dataframe\">\n",
       "  <thead>\n",
       "    <tr style=\"text-align: right;\">\n",
       "      <th></th>\n",
       "      <th>Home(F)</th>\n",
       "      <th>Home(A)</th>\n",
       "      <th>Home(Dif)</th>\n",
       "      <th>Points(H)</th>\n",
       "    </tr>\n",
       "    <tr>\n",
       "      <th>Team</th>\n",
       "      <th></th>\n",
       "      <th></th>\n",
       "      <th></th>\n",
       "      <th></th>\n",
       "    </tr>\n",
       "  </thead>\n",
       "  <tbody>\n",
       "    <tr>\n",
       "      <th>Manchester City</th>\n",
       "      <td>57</td>\n",
       "      <td>12</td>\n",
       "      <td>45</td>\n",
       "      <td>54</td>\n",
       "    </tr>\n",
       "    <tr>\n",
       "      <th>Liverpool</th>\n",
       "      <td>55</td>\n",
       "      <td>10</td>\n",
       "      <td>45</td>\n",
       "      <td>53</td>\n",
       "    </tr>\n",
       "    <tr>\n",
       "      <th>Arsenal</th>\n",
       "      <td>42</td>\n",
       "      <td>16</td>\n",
       "      <td>26</td>\n",
       "      <td>45</td>\n",
       "    </tr>\n",
       "    <tr>\n",
       "      <th>Chelsea</th>\n",
       "      <td>39</td>\n",
       "      <td>12</td>\n",
       "      <td>27</td>\n",
       "      <td>42</td>\n",
       "    </tr>\n",
       "    <tr>\n",
       "      <th>Tottenham</th>\n",
       "      <td>34</td>\n",
       "      <td>16</td>\n",
       "      <td>18</td>\n",
       "      <td>38</td>\n",
       "    </tr>\n",
       "    <tr>\n",
       "      <th>Manchester United</th>\n",
       "      <td>33</td>\n",
       "      <td>25</td>\n",
       "      <td>8</td>\n",
       "      <td>36</td>\n",
       "    </tr>\n",
       "    <tr>\n",
       "      <th>Wolves</th>\n",
       "      <td>28</td>\n",
       "      <td>21</td>\n",
       "      <td>7</td>\n",
       "      <td>34</td>\n",
       "    </tr>\n",
       "    <tr>\n",
       "      <th>Everton</th>\n",
       "      <td>30</td>\n",
       "      <td>21</td>\n",
       "      <td>9</td>\n",
       "      <td>34</td>\n",
       "    </tr>\n",
       "    <tr>\n",
       "      <th>West Ham</th>\n",
       "      <td>32</td>\n",
       "      <td>27</td>\n",
       "      <td>5</td>\n",
       "      <td>31</td>\n",
       "    </tr>\n",
       "    <tr>\n",
       "      <th>Bournemouth</th>\n",
       "      <td>30</td>\n",
       "      <td>25</td>\n",
       "      <td>5</td>\n",
       "      <td>29</td>\n",
       "    </tr>\n",
       "    <tr>\n",
       "      <th>Watford</th>\n",
       "      <td>26</td>\n",
       "      <td>28</td>\n",
       "      <td>-2</td>\n",
       "      <td>27</td>\n",
       "    </tr>\n",
       "    <tr>\n",
       "      <th>Leicester City</th>\n",
       "      <td>24</td>\n",
       "      <td>20</td>\n",
       "      <td>4</td>\n",
       "      <td>27</td>\n",
       "    </tr>\n",
       "    <tr>\n",
       "      <th>Newcastle United</th>\n",
       "      <td>24</td>\n",
       "      <td>25</td>\n",
       "      <td>-1</td>\n",
       "      <td>25</td>\n",
       "    </tr>\n",
       "    <tr>\n",
       "      <th>Burnley</th>\n",
       "      <td>24</td>\n",
       "      <td>32</td>\n",
       "      <td>-8</td>\n",
       "      <td>23</td>\n",
       "    </tr>\n",
       "    <tr>\n",
       "      <th>Southampton</th>\n",
       "      <td>27</td>\n",
       "      <td>30</td>\n",
       "      <td>-3</td>\n",
       "      <td>23</td>\n",
       "    </tr>\n",
       "    <tr>\n",
       "      <th>Brighton</th>\n",
       "      <td>19</td>\n",
       "      <td>28</td>\n",
       "      <td>-9</td>\n",
       "      <td>23</td>\n",
       "    </tr>\n",
       "    <tr>\n",
       "      <th>Fulham</th>\n",
       "      <td>22</td>\n",
       "      <td>36</td>\n",
       "      <td>-14</td>\n",
       "      <td>21</td>\n",
       "    </tr>\n",
       "    <tr>\n",
       "      <th>Crystal Palace</th>\n",
       "      <td>19</td>\n",
       "      <td>23</td>\n",
       "      <td>-4</td>\n",
       "      <td>20</td>\n",
       "    </tr>\n",
       "    <tr>\n",
       "      <th>Cardiff</th>\n",
       "      <td>21</td>\n",
       "      <td>38</td>\n",
       "      <td>-17</td>\n",
       "      <td>20</td>\n",
       "    </tr>\n",
       "    <tr>\n",
       "      <th>Huddersfield</th>\n",
       "      <td>10</td>\n",
       "      <td>31</td>\n",
       "      <td>-21</td>\n",
       "      <td>9</td>\n",
       "    </tr>\n",
       "  </tbody>\n",
       "</table>\n",
       "</div>"
      ],
      "text/plain": [
       "                   Home(F)  Home(A)  Home(Dif)  Points(H)\n",
       "Team                                                     \n",
       "Manchester City         57       12         45         54\n",
       "Liverpool               55       10         45         53\n",
       "Arsenal                 42       16         26         45\n",
       "Chelsea                 39       12         27         42\n",
       "Tottenham               34       16         18         38\n",
       "Manchester United       33       25          8         36\n",
       "Wolves                  28       21          7         34\n",
       "Everton                 30       21          9         34\n",
       "West Ham                32       27          5         31\n",
       "Bournemouth             30       25          5         29\n",
       "Watford                 26       28         -2         27\n",
       "Leicester City          24       20          4         27\n",
       "Newcastle United        24       25         -1         25\n",
       "Burnley                 24       32         -8         23\n",
       "Southampton             27       30         -3         23\n",
       "Brighton                19       28         -9         23\n",
       "Fulham                  22       36        -14         21\n",
       "Crystal Palace          19       23         -4         20\n",
       "Cardiff                 21       38        -17         20\n",
       "Huddersfield            10       31        -21          9"
      ]
     },
     "execution_count": 13,
     "metadata": {},
     "output_type": "execute_result"
    }
   ],
   "source": [
    "# added new column with home goal difference\n",
    "pl[\"Home(Dif)\"] = pl[\"Home(F)\"] - pl[\"Home(A)\"]\n",
    "# created league table based on home form\n",
    "home = pl[[\"Home(F)\", \"Home(A)\", \"Home(Dif)\", \"Points(H)\"]]\n",
    "# sorted league table by points\n",
    "home = home.sort_values(by = \"Points(H)\", ascending=False);\n",
    "home"
   ]
  },
  {
   "cell_type": "code",
   "execution_count": 14,
   "metadata": {},
   "outputs": [
    {
     "data": {
      "text/html": [
       "<div>\n",
       "<style scoped>\n",
       "    .dataframe tbody tr th:only-of-type {\n",
       "        vertical-align: middle;\n",
       "    }\n",
       "\n",
       "    .dataframe tbody tr th {\n",
       "        vertical-align: top;\n",
       "    }\n",
       "\n",
       "    .dataframe thead th {\n",
       "        text-align: right;\n",
       "    }\n",
       "</style>\n",
       "<table border=\"1\" class=\"dataframe\">\n",
       "  <thead>\n",
       "    <tr style=\"text-align: right;\">\n",
       "      <th></th>\n",
       "      <th>Home(F)</th>\n",
       "      <th>Home(A)</th>\n",
       "      <th>Home(Dif)</th>\n",
       "      <th>Points(H)</th>\n",
       "    </tr>\n",
       "  </thead>\n",
       "  <tbody>\n",
       "    <tr>\n",
       "      <th>count</th>\n",
       "      <td>20.000000</td>\n",
       "      <td>20.000000</td>\n",
       "      <td>20.000000</td>\n",
       "      <td>20.000000</td>\n",
       "    </tr>\n",
       "    <tr>\n",
       "      <th>mean</th>\n",
       "      <td>29.800000</td>\n",
       "      <td>23.800000</td>\n",
       "      <td>6.000000</td>\n",
       "      <td>30.700000</td>\n",
       "    </tr>\n",
       "    <tr>\n",
       "      <th>std</th>\n",
       "      <td>11.542142</td>\n",
       "      <td>7.878017</td>\n",
       "      <td>18.381913</td>\n",
       "      <td>11.494163</td>\n",
       "    </tr>\n",
       "    <tr>\n",
       "      <th>min</th>\n",
       "      <td>10.000000</td>\n",
       "      <td>10.000000</td>\n",
       "      <td>-21.000000</td>\n",
       "      <td>9.000000</td>\n",
       "    </tr>\n",
       "    <tr>\n",
       "      <th>25%</th>\n",
       "      <td>23.500000</td>\n",
       "      <td>19.000000</td>\n",
       "      <td>-5.000000</td>\n",
       "      <td>23.000000</td>\n",
       "    </tr>\n",
       "    <tr>\n",
       "      <th>50%</th>\n",
       "      <td>27.500000</td>\n",
       "      <td>25.000000</td>\n",
       "      <td>4.500000</td>\n",
       "      <td>28.000000</td>\n",
       "    </tr>\n",
       "    <tr>\n",
       "      <th>75%</th>\n",
       "      <td>33.250000</td>\n",
       "      <td>28.500000</td>\n",
       "      <td>11.250000</td>\n",
       "      <td>36.500000</td>\n",
       "    </tr>\n",
       "    <tr>\n",
       "      <th>max</th>\n",
       "      <td>57.000000</td>\n",
       "      <td>38.000000</td>\n",
       "      <td>45.000000</td>\n",
       "      <td>54.000000</td>\n",
       "    </tr>\n",
       "  </tbody>\n",
       "</table>\n",
       "</div>"
      ],
      "text/plain": [
       "         Home(F)    Home(A)  Home(Dif)  Points(H)\n",
       "count  20.000000  20.000000  20.000000  20.000000\n",
       "mean   29.800000  23.800000   6.000000  30.700000\n",
       "std    11.542142   7.878017  18.381913  11.494163\n",
       "min    10.000000  10.000000 -21.000000   9.000000\n",
       "25%    23.500000  19.000000  -5.000000  23.000000\n",
       "50%    27.500000  25.000000   4.500000  28.000000\n",
       "75%    33.250000  28.500000  11.250000  36.500000\n",
       "max    57.000000  38.000000  45.000000  54.000000"
      ]
     },
     "execution_count": 14,
     "metadata": {},
     "output_type": "execute_result"
    }
   ],
   "source": [
    "# description of home stats\n",
    "home.describe()"
   ]
  },
  {
   "cell_type": "markdown",
   "metadata": {},
   "source": [
    "## Away"
   ]
  },
  {
   "cell_type": "code",
   "execution_count": 15,
   "metadata": {},
   "outputs": [
    {
     "data": {
      "text/html": [
       "<div>\n",
       "<style scoped>\n",
       "    .dataframe tbody tr th:only-of-type {\n",
       "        vertical-align: middle;\n",
       "    }\n",
       "\n",
       "    .dataframe tbody tr th {\n",
       "        vertical-align: top;\n",
       "    }\n",
       "\n",
       "    .dataframe thead th {\n",
       "        text-align: right;\n",
       "    }\n",
       "</style>\n",
       "<table border=\"1\" class=\"dataframe\">\n",
       "  <thead>\n",
       "    <tr style=\"text-align: right;\">\n",
       "      <th></th>\n",
       "      <th>Away(F)</th>\n",
       "      <th>Away(A)</th>\n",
       "      <th>Away(Dif)</th>\n",
       "      <th>Points(A)</th>\n",
       "    </tr>\n",
       "    <tr>\n",
       "      <th>Team</th>\n",
       "      <th></th>\n",
       "      <th></th>\n",
       "      <th></th>\n",
       "      <th></th>\n",
       "    </tr>\n",
       "  </thead>\n",
       "  <tbody>\n",
       "    <tr>\n",
       "      <th>Manchester City</th>\n",
       "      <td>38</td>\n",
       "      <td>11</td>\n",
       "      <td>27</td>\n",
       "      <td>44</td>\n",
       "    </tr>\n",
       "    <tr>\n",
       "      <th>Liverpool</th>\n",
       "      <td>34</td>\n",
       "      <td>12</td>\n",
       "      <td>22</td>\n",
       "      <td>44</td>\n",
       "    </tr>\n",
       "    <tr>\n",
       "      <th>Tottenham</th>\n",
       "      <td>33</td>\n",
       "      <td>23</td>\n",
       "      <td>10</td>\n",
       "      <td>33</td>\n",
       "    </tr>\n",
       "    <tr>\n",
       "      <th>Chelsea</th>\n",
       "      <td>24</td>\n",
       "      <td>27</td>\n",
       "      <td>-3</td>\n",
       "      <td>30</td>\n",
       "    </tr>\n",
       "    <tr>\n",
       "      <th>Manchester United</th>\n",
       "      <td>32</td>\n",
       "      <td>29</td>\n",
       "      <td>3</td>\n",
       "      <td>30</td>\n",
       "    </tr>\n",
       "    <tr>\n",
       "      <th>Crystal Palace</th>\n",
       "      <td>32</td>\n",
       "      <td>30</td>\n",
       "      <td>2</td>\n",
       "      <td>29</td>\n",
       "    </tr>\n",
       "    <tr>\n",
       "      <th>Leicester City</th>\n",
       "      <td>27</td>\n",
       "      <td>28</td>\n",
       "      <td>-1</td>\n",
       "      <td>25</td>\n",
       "    </tr>\n",
       "    <tr>\n",
       "      <th>Arsenal</th>\n",
       "      <td>31</td>\n",
       "      <td>35</td>\n",
       "      <td>-4</td>\n",
       "      <td>25</td>\n",
       "    </tr>\n",
       "    <tr>\n",
       "      <th>Watford</th>\n",
       "      <td>26</td>\n",
       "      <td>31</td>\n",
       "      <td>-5</td>\n",
       "      <td>23</td>\n",
       "    </tr>\n",
       "    <tr>\n",
       "      <th>Wolves</th>\n",
       "      <td>19</td>\n",
       "      <td>25</td>\n",
       "      <td>-6</td>\n",
       "      <td>23</td>\n",
       "    </tr>\n",
       "    <tr>\n",
       "      <th>West Ham</th>\n",
       "      <td>20</td>\n",
       "      <td>28</td>\n",
       "      <td>-8</td>\n",
       "      <td>21</td>\n",
       "    </tr>\n",
       "    <tr>\n",
       "      <th>Everton</th>\n",
       "      <td>24</td>\n",
       "      <td>25</td>\n",
       "      <td>-1</td>\n",
       "      <td>20</td>\n",
       "    </tr>\n",
       "    <tr>\n",
       "      <th>Newcastle United</th>\n",
       "      <td>18</td>\n",
       "      <td>23</td>\n",
       "      <td>-5</td>\n",
       "      <td>20</td>\n",
       "    </tr>\n",
       "    <tr>\n",
       "      <th>Burnley</th>\n",
       "      <td>21</td>\n",
       "      <td>36</td>\n",
       "      <td>-15</td>\n",
       "      <td>17</td>\n",
       "    </tr>\n",
       "    <tr>\n",
       "      <th>Bournemouth</th>\n",
       "      <td>26</td>\n",
       "      <td>45</td>\n",
       "      <td>-19</td>\n",
       "      <td>16</td>\n",
       "    </tr>\n",
       "    <tr>\n",
       "      <th>Southampton</th>\n",
       "      <td>18</td>\n",
       "      <td>35</td>\n",
       "      <td>-17</td>\n",
       "      <td>16</td>\n",
       "    </tr>\n",
       "    <tr>\n",
       "      <th>Cardiff</th>\n",
       "      <td>13</td>\n",
       "      <td>31</td>\n",
       "      <td>-18</td>\n",
       "      <td>14</td>\n",
       "    </tr>\n",
       "    <tr>\n",
       "      <th>Brighton</th>\n",
       "      <td>16</td>\n",
       "      <td>32</td>\n",
       "      <td>-16</td>\n",
       "      <td>13</td>\n",
       "    </tr>\n",
       "    <tr>\n",
       "      <th>Huddersfield</th>\n",
       "      <td>12</td>\n",
       "      <td>45</td>\n",
       "      <td>-33</td>\n",
       "      <td>7</td>\n",
       "    </tr>\n",
       "    <tr>\n",
       "      <th>Fulham</th>\n",
       "      <td>12</td>\n",
       "      <td>45</td>\n",
       "      <td>-33</td>\n",
       "      <td>5</td>\n",
       "    </tr>\n",
       "  </tbody>\n",
       "</table>\n",
       "</div>"
      ],
      "text/plain": [
       "                   Away(F)  Away(A)  Away(Dif)  Points(A)\n",
       "Team                                                     \n",
       "Manchester City         38       11         27         44\n",
       "Liverpool               34       12         22         44\n",
       "Tottenham               33       23         10         33\n",
       "Chelsea                 24       27         -3         30\n",
       "Manchester United       32       29          3         30\n",
       "Crystal Palace          32       30          2         29\n",
       "Leicester City          27       28         -1         25\n",
       "Arsenal                 31       35         -4         25\n",
       "Watford                 26       31         -5         23\n",
       "Wolves                  19       25         -6         23\n",
       "West Ham                20       28         -8         21\n",
       "Everton                 24       25         -1         20\n",
       "Newcastle United        18       23         -5         20\n",
       "Burnley                 21       36        -15         17\n",
       "Bournemouth             26       45        -19         16\n",
       "Southampton             18       35        -17         16\n",
       "Cardiff                 13       31        -18         14\n",
       "Brighton                16       32        -16         13\n",
       "Huddersfield            12       45        -33          7\n",
       "Fulham                  12       45        -33          5"
      ]
     },
     "execution_count": 15,
     "metadata": {},
     "output_type": "execute_result"
    }
   ],
   "source": [
    "# added new column with away goal difference\n",
    "pl[\"Away(Dif)\"] = pl[\"Away(F)\"] - pl[\"Away(A)\"]\n",
    "# created league table based on away form\n",
    "away = pl[[\"Away(F)\", \"Away(A)\", \"Away(Dif)\", \"Points(A)\"]]\n",
    "# sorted league table by points\n",
    "away = away.sort_values(by=\"Points(A)\", ascending=False);\n",
    "away"
   ]
  },
  {
   "cell_type": "code",
   "execution_count": 16,
   "metadata": {},
   "outputs": [
    {
     "data": {
      "text/html": [
       "<div>\n",
       "<style scoped>\n",
       "    .dataframe tbody tr th:only-of-type {\n",
       "        vertical-align: middle;\n",
       "    }\n",
       "\n",
       "    .dataframe tbody tr th {\n",
       "        vertical-align: top;\n",
       "    }\n",
       "\n",
       "    .dataframe thead th {\n",
       "        text-align: right;\n",
       "    }\n",
       "</style>\n",
       "<table border=\"1\" class=\"dataframe\">\n",
       "  <thead>\n",
       "    <tr style=\"text-align: right;\">\n",
       "      <th></th>\n",
       "      <th>Away(F)</th>\n",
       "      <th>Away(A)</th>\n",
       "      <th>Away(Dif)</th>\n",
       "      <th>Points(A)</th>\n",
       "    </tr>\n",
       "  </thead>\n",
       "  <tbody>\n",
       "    <tr>\n",
       "      <th>count</th>\n",
       "      <td>20.000000</td>\n",
       "      <td>20.000000</td>\n",
       "      <td>20.000000</td>\n",
       "      <td>20.000000</td>\n",
       "    </tr>\n",
       "    <tr>\n",
       "      <th>mean</th>\n",
       "      <td>23.800000</td>\n",
       "      <td>29.800000</td>\n",
       "      <td>-6.000000</td>\n",
       "      <td>22.750000</td>\n",
       "    </tr>\n",
       "    <tr>\n",
       "      <th>std</th>\n",
       "      <td>7.831112</td>\n",
       "      <td>9.225822</td>\n",
       "      <td>15.245362</td>\n",
       "      <td>10.361238</td>\n",
       "    </tr>\n",
       "    <tr>\n",
       "      <th>min</th>\n",
       "      <td>12.000000</td>\n",
       "      <td>11.000000</td>\n",
       "      <td>-33.000000</td>\n",
       "      <td>5.000000</td>\n",
       "    </tr>\n",
       "    <tr>\n",
       "      <th>25%</th>\n",
       "      <td>18.000000</td>\n",
       "      <td>25.000000</td>\n",
       "      <td>-16.250000</td>\n",
       "      <td>16.000000</td>\n",
       "    </tr>\n",
       "    <tr>\n",
       "      <th>50%</th>\n",
       "      <td>24.000000</td>\n",
       "      <td>29.500000</td>\n",
       "      <td>-5.000000</td>\n",
       "      <td>22.000000</td>\n",
       "    </tr>\n",
       "    <tr>\n",
       "      <th>75%</th>\n",
       "      <td>31.250000</td>\n",
       "      <td>35.000000</td>\n",
       "      <td>-0.250000</td>\n",
       "      <td>29.250000</td>\n",
       "    </tr>\n",
       "    <tr>\n",
       "      <th>max</th>\n",
       "      <td>38.000000</td>\n",
       "      <td>45.000000</td>\n",
       "      <td>27.000000</td>\n",
       "      <td>44.000000</td>\n",
       "    </tr>\n",
       "  </tbody>\n",
       "</table>\n",
       "</div>"
      ],
      "text/plain": [
       "         Away(F)    Away(A)  Away(Dif)  Points(A)\n",
       "count  20.000000  20.000000  20.000000  20.000000\n",
       "mean   23.800000  29.800000  -6.000000  22.750000\n",
       "std     7.831112   9.225822  15.245362  10.361238\n",
       "min    12.000000  11.000000 -33.000000   5.000000\n",
       "25%    18.000000  25.000000 -16.250000  16.000000\n",
       "50%    24.000000  29.500000  -5.000000  22.000000\n",
       "75%    31.250000  35.000000  -0.250000  29.250000\n",
       "max    38.000000  45.000000  27.000000  44.000000"
      ]
     },
     "execution_count": 16,
     "metadata": {},
     "output_type": "execute_result"
    }
   ],
   "source": [
    "# description of away stats\n",
    "away.describe()"
   ]
  },
  {
   "cell_type": "markdown",
   "metadata": {},
   "source": [
    "## Home vs. Away"
   ]
  },
  {
   "cell_type": "code",
   "execution_count": 17,
   "metadata": {},
   "outputs": [
    {
     "data": {
      "image/png": "[encoded data removed]",
      "text/plain": [
       "<Figure size 1080x288 with 2 Axes>"
      ]
     },
     "metadata": {
      "needs_background": "light"
     },
     "output_type": "display_data"
    }
   ],
   "source": [
    "# set up matplotlib figure\n",
    "f, axes = plt.subplots(1, 2, figsize=(15, 4), sharex=True, sharey=True)\n",
    "\n",
    "# distribution of goals scored at home\n",
    "sns.distplot(home[\"Home(F)\"], ax=axes[0])\n",
    "axes[0].set_title(\"Goals Scored At Home\");\n",
    "\n",
    "# distibution of goals scored away from home across the league\n",
    "sns.distplot(away[\"Away(F)\"], ax= axes[1])\n",
    "axes[1].set_title(\"Goals Scored Away From Home\");\n",
    "\n",
    "plt.tight_layout()\n",
    "\n"
   ]
  },
  {
   "cell_type": "markdown",
   "metadata": {},
   "source": [
    "There is a marked difference between the number, and distribution, of goals scored at home and away from home. This difference will have to be accounted for when generating random data for goals scored."
   ]
  },
  {
   "cell_type": "code",
   "execution_count": 18,
   "metadata": {},
   "outputs": [
    {
     "data": {
      "image/png": "[encoded data removed]",
      "text/plain": [
       "<Figure size 1080x288 with 2 Axes>"
      ]
     },
     "metadata": {
      "needs_background": "light"
     },
     "output_type": "display_data"
    }
   ],
   "source": [
    "# set up matplotlib figure\n",
    "f, axes = plt.subplots(1, 2, figsize=(15, 4), sharex=True, sharey=True)\n",
    "\n",
    "# distribution of goals conceded at home\n",
    "sns.distplot(home[\"Home(A)\"], ax=axes[0])\n",
    "axes[0].set_title(\"Goals Conceded At Home\");\n",
    "\n",
    "# distibution of goals conceded away from home \n",
    "sns.distplot(away[\"Away(A)\"], ax= axes[1])\n",
    "axes[1].set_title(\"Goals Conceded Away From Home\");\n",
    "\n",
    "plt.tight_layout()\n"
   ]
  },
  {
   "cell_type": "markdown",
   "metadata": {},
   "source": [
    "This difference is also visible when it comes to goals conceded."
   ]
  },
  {
   "cell_type": "code",
   "execution_count": 19,
   "metadata": {},
   "outputs": [
    {
     "data": {
      "image/png": "[encoded data removed]",
      "text/plain": [
       "<Figure size 1080x288 with 2 Axes>"
      ]
     },
     "metadata": {
      "needs_background": "light"
     },
     "output_type": "display_data"
    }
   ],
   "source": [
    "# set up matplotlib figure\n",
    "f, axes = plt.subplots(1, 2, figsize=(15, 4), sharey=True, sharex=True)\n",
    "\n",
    "# distribution of goals difference at home\n",
    "sns.distplot(home[\"Home(Dif)\"], ax=axes[0])\n",
    "axes[0].set_title(\"Goal Difference At Home\");\n",
    "\n",
    "# distibution of goals difference away from home \n",
    "sns.distplot(away[\"Away(Dif)\"], ax= axes[1])\n",
    "axes[1].set_title(\"Goal Difference Away From Home\");\n",
    "\n",
    "plt.tight_layout()\n"
   ]
  },
  {
   "cell_type": "markdown",
   "metadata": {},
   "source": [
    "Logically, it follows that this difference is evident when viewing goal difference at home and away from home."
   ]
  },
  {
   "cell_type": "code",
   "execution_count": 73,
   "metadata": {},
   "outputs": [
    {
     "data": {
      "image/png": "[encoded data removed]",
      "text/plain": [
       "<Figure size 1080x288 with 2 Axes>"
      ]
     },
     "metadata": {
      "needs_background": "light"
     },
     "output_type": "display_data"
    }
   ],
   "source": [
    "# set up matplotlib figure\n",
    "f, axes = plt.subplots(1, 2, figsize=(15, 4), sharey=True, sharex=True)\n",
    "\n",
    "# distribution of goals scored at home\n",
    "sns.distplot(home[\"Points(H)\"], bins= 10, ax=axes[0])\n",
    "axes[0].set_title(\"Points Gained At Home\");\n",
    "\n",
    "# distibution of goals scored away from home across the league\n",
    "sns.distplot(away[\"Points(A)\"], bins= 10, ax= axes[1])\n",
    "axes[1].set_title(\"Points Gained Away From Home\");\n",
    "\n",
    "plt.tight_layout()\n"
   ]
  },
  {
   "cell_type": "markdown",
   "metadata": {},
   "source": [
    "The points gained at home higher and have a greater density at the higher numbers also."
   ]
  },
  {
   "cell_type": "code",
   "execution_count": 21,
   "metadata": {},
   "outputs": [
    {
     "data": {
      "image/png": "[encoded data removed]",
      "text/plain": [
       "<Figure size 1080x288 with 2 Axes>"
      ]
     },
     "metadata": {
      "needs_background": "light"
     },
     "output_type": "display_data"
    }
   ],
   "source": [
    "# set up matplotlib figure\n",
    "f, axes = plt.subplots(1, 2, figsize=(15, 4), sharey=True)\n",
    "\n",
    "# distribution of goals scored at home\n",
    "goals_for = sns.catplot(x=\"Team\", y=\"Home(F)\", kind=\"bar\", data=home.reset_index(), ax=axes[0])\n",
    "axes[0].set_xticklabels(axes[0].get_xticklabels(), rotation=45, horizontalalignment=\"right\")\n",
    "axes[0].set_title(\"Goals Scored At Home\");\n",
    "\n",
    "# distibution of goals scored away from home \n",
    "goals_for = sns.catplot(x=\"Team\", y=\"Away(F)\", kind=\"bar\", data=away.reset_index(), ax=axes[1])\n",
    "axes[1].set_xticklabels(axes[1].get_xticklabels(), rotation=45, horizontalalignment=\"right\")\n",
    "axes[1].set_title(\"Goals Scored Away From Home\");\n",
    "\n",
    "plt.tight_layout()\n",
    "\n",
    "# closed empty plots\n",
    "plt.close(2)\n",
    "plt.close(3)\n",
    "\n",
    "\n"
   ]
  },
  {
   "cell_type": "markdown",
   "metadata": {},
   "source": [
    "Here, we can see that most teams score less goals away from home with few exceptions."
   ]
  },
  {
   "cell_type": "code",
   "execution_count": 22,
   "metadata": {},
   "outputs": [
    {
     "data": {
      "image/png": "[encoded data removed]",
      "text/plain": [
       "<Figure size 1080x288 with 2 Axes>"
      ]
     },
     "metadata": {
      "needs_background": "light"
     },
     "output_type": "display_data"
    }
   ],
   "source": [
    "# set up matplotlib figure\n",
    "f, axes = plt.subplots(1, 2, figsize=(15, 4), sharey=True)\n",
    "\n",
    "# distribution of goals conceded at home\n",
    "goals_for = sns.catplot(x=\"Team\", y=\"Home(A)\", kind=\"bar\", data=home.reset_index(), ax=axes[0])\n",
    "axes[0].set_xticklabels(axes[0].get_xticklabels(), rotation=45, horizontalalignment=\"right\")\n",
    "axes[0].set_title(\"Goals Conceded At Home\");\n",
    "\n",
    "# distibution of goals conceded away from home \n",
    "goals_for = sns.catplot(x=\"Team\", y=\"Away(A)\", kind=\"bar\", data=away.reset_index(), ax=axes[1])\n",
    "axes[1].set_xticklabels(axes[1].get_xticklabels(), rotation=45, horizontalalignment=\"right\")\n",
    "axes[1].set_title(\"Goals Conceded Away From Home\");\n",
    "\n",
    "plt.tight_layout()\n",
    "\n",
    "# closed empty plots\n",
    "plt.close(2)\n",
    "plt.close(3)\n"
   ]
  },
  {
   "cell_type": "markdown",
   "metadata": {},
   "source": [
    "The same is also true of goals conceded."
   ]
  },
  {
   "cell_type": "code",
   "execution_count": 23,
   "metadata": {},
   "outputs": [
    {
     "data": {
      "image/png": "[encoded data removed]",
      "text/plain": [
       "<Figure size 1080x288 with 2 Axes>"
      ]
     },
     "metadata": {
      "needs_background": "light"
     },
     "output_type": "display_data"
    }
   ],
   "source": [
    "# set up matplotlib figure\n",
    "f, axes = plt.subplots(1, 2, figsize=(15, 4), sharey=True)\n",
    "\n",
    "# distribution of goals conceded at home\n",
    "goals_for = sns.catplot(x=\"Team\", y=\"Home(Dif)\", kind=\"bar\", data=home.reset_index(), ax=axes[0])\n",
    "axes[0].set_xticklabels(axes[0].get_xticklabels(), rotation=45, horizontalalignment=\"right\")\n",
    "axes[0].set_title(\"Goals Difference At Home\");\n",
    "\n",
    "# distibution of goals conceded away from home \n",
    "goals_for = sns.catplot(x=\"Team\", y=\"Away(Dif)\", kind=\"bar\", data=away.reset_index(), ax=axes[1])\n",
    "axes[1].set_xticklabels(axes[1].get_xticklabels(), rotation=45, horizontalalignment=\"right\")\n",
    "axes[1].set_title(\"Goals Difference Away From Home\");\n",
    "\n",
    "plt.tight_layout()\n",
    "\n",
    "# closed empty plots  \n",
    "plt.close(2)\n",
    "plt.close(3)\n"
   ]
  },
  {
   "cell_type": "markdown",
   "metadata": {},
   "source": [
    "This is further evident when viewing goal difference, with far more teams having a minus goal difference away from home."
   ]
  },
  {
   "cell_type": "code",
   "execution_count": 24,
   "metadata": {},
   "outputs": [
    {
     "data": {
      "image/png": "[encoded data removed]",
      "text/plain": [
       "<Figure size 1080x288 with 2 Axes>"
      ]
     },
     "metadata": {
      "needs_background": "light"
     },
     "output_type": "display_data"
    }
   ],
   "source": [
    "# set up matplotlib figure\n",
    "f, axes = plt.subplots(1, 2, figsize=(15, 4), sharey=True)\n",
    "\n",
    "# bar plot of points gained at home\n",
    "goals_for = sns.catplot(x=\"Team\", y=\"Points(H)\", kind=\"bar\", data=home.reset_index(), ax=axes[0])\n",
    "axes[0].set_xticklabels(axes[0].get_xticklabels(), rotation=45, horizontalalignment=\"right\")\n",
    "axes[0].set_title(\"Points Gained At Home\");\n",
    "\n",
    "# bar plot of points gained away from home \n",
    "goals_for = sns.catplot(x=\"Team\", y=\"Points(A)\", kind=\"bar\", data=away.reset_index(), ax=axes[1])\n",
    "axes[1].set_xticklabels(axes[1].get_xticklabels(), rotation=45, horizontalalignment=\"right\")\n",
    "axes[1].set_title(\"Points gained Away From Home\");\n",
    "\n",
    "plt.tight_layout()\n",
    "\n",
    "# closed empty plots\n",
    "plt.close(2)\n",
    "plt.close(3)\n"
   ]
  },
  {
   "cell_type": "markdown",
   "metadata": {},
   "source": [
    "And again we can see that almost all times have accumulated less points away from home."
   ]
  },
  {
   "cell_type": "markdown",
   "metadata": {},
   "source": [
    "## Characteristics To Consider When Generating Random Data"
   ]
  },
  {
   "cell_type": "markdown",
   "metadata": {},
   "source": [
    "Due to marked difference between home and away form the random data will be generated under different parameters for home and away before being combined into a total table at the end. Each time will be assigned an attacking coefficient based on the number of goals scored at home divided by the number of games played at home. This number will then be divided by the average number of home goals score across the league. This coefficient will be used as a parameter when generating the number of goals scored by each team.\n",
    "\n",
    "A defensive coefficient will similarily be assigned based on the number of goals conceded by a team at home divided by the number of games played at home. This number will then be divided by the average number of goals conceded by each team at home.\n",
    "\n",
    "The same model will then be applied to a team's away data. Once random goal data each team's goal difference will be calculated. As noted previously, a higher goal difference correlates with a higher points total. As such a teams goal difference will be divided by the average goal difference at home or away and used as a parameter for the chosen numpy.random distribution to generate random point totals."
   ]
  },
  {
   "cell_type": "markdown",
   "metadata": {},
   "source": [
    "## numpy.random distriubtion"
   ]
  },
  {
   "cell_type": "markdown",
   "metadata": {},
   "source": [
    "Upon researching different distributions available in numpy for generating random data it was decided the the poisson distribution was the most suitable. The poisson distribution accepts two inputs; lam, the expection of interval, and the size of the output. The coefficients mentioned in the previous section can be used to generate the lam values and the output size will be the number of teams in the league."
   ]
  },
  {
   "cell_type": "code",
   "execution_count": 25,
   "metadata": {},
   "outputs": [
    {
     "data": {
      "text/plain": [
       "array([ 6, 27, 14, 10, 30, 15, 11, 30, 13, 31, 13, 15, 42, 45, 72, 10, 15,\n",
       "       10, 18,  5])"
      ]
     },
     "execution_count": 25,
     "metadata": {},
     "output_type": "execute_result"
    }
   ],
   "source": [
    "# example\n",
    "np.random.poisson(lam=(10,25,19,13,33,23,11,34,21,31,11,22,33,44,55,12,17,8,15,5), size=(20))"
   ]
  },
  {
   "cell_type": "markdown",
   "metadata": {},
   "source": [
    "# Random Home Data"
   ]
  },
  {
   "cell_type": "markdown",
   "metadata": {},
   "source": [
    "## Goals Scored"
   ]
  },
  {
   "cell_type": "code",
   "execution_count": 26,
   "metadata": {},
   "outputs": [
    {
     "data": {
      "text/plain": [
       "Home(F)      29.8\n",
       "Home(A)      23.8\n",
       "Home(Dif)     6.0\n",
       "Points(H)    30.7\n",
       "dtype: float64"
      ]
     },
     "execution_count": 26,
     "metadata": {},
     "output_type": "execute_result"
    }
   ],
   "source": [
    "# description of home dataframe\n",
    "home.mean()"
   ]
  },
  {
   "cell_type": "markdown",
   "metadata": {},
   "source": [
    "Here we have the mean data needed to calculate the coefficients of each team."
   ]
  },
  {
   "cell_type": "code",
   "execution_count": 27,
   "metadata": {},
   "outputs": [
    {
     "data": {
      "text/html": [
       "<div>\n",
       "<style scoped>\n",
       "    .dataframe tbody tr th:only-of-type {\n",
       "        vertical-align: middle;\n",
       "    }\n",
       "\n",
       "    .dataframe tbody tr th {\n",
       "        vertical-align: top;\n",
       "    }\n",
       "\n",
       "    .dataframe thead th {\n",
       "        text-align: right;\n",
       "    }\n",
       "</style>\n",
       "<table border=\"1\" class=\"dataframe\">\n",
       "  <thead>\n",
       "    <tr style=\"text-align: right;\">\n",
       "      <th></th>\n",
       "      <th>Home(F)</th>\n",
       "      <th>Home(A)</th>\n",
       "      <th>Home(Dif)</th>\n",
       "      <th>Points(H)</th>\n",
       "    </tr>\n",
       "    <tr>\n",
       "      <th>Team</th>\n",
       "      <th></th>\n",
       "      <th></th>\n",
       "      <th></th>\n",
       "      <th></th>\n",
       "    </tr>\n",
       "  </thead>\n",
       "  <tbody>\n",
       "    <tr>\n",
       "      <th>Arsenal</th>\n",
       "      <td>42</td>\n",
       "      <td>16</td>\n",
       "      <td>26</td>\n",
       "      <td>45</td>\n",
       "    </tr>\n",
       "    <tr>\n",
       "      <th>Bournemouth</th>\n",
       "      <td>30</td>\n",
       "      <td>25</td>\n",
       "      <td>5</td>\n",
       "      <td>29</td>\n",
       "    </tr>\n",
       "    <tr>\n",
       "      <th>Brighton</th>\n",
       "      <td>19</td>\n",
       "      <td>28</td>\n",
       "      <td>-9</td>\n",
       "      <td>23</td>\n",
       "    </tr>\n",
       "    <tr>\n",
       "      <th>Burnley</th>\n",
       "      <td>24</td>\n",
       "      <td>32</td>\n",
       "      <td>-8</td>\n",
       "      <td>23</td>\n",
       "    </tr>\n",
       "    <tr>\n",
       "      <th>Cardiff</th>\n",
       "      <td>21</td>\n",
       "      <td>38</td>\n",
       "      <td>-17</td>\n",
       "      <td>20</td>\n",
       "    </tr>\n",
       "    <tr>\n",
       "      <th>Chelsea</th>\n",
       "      <td>39</td>\n",
       "      <td>12</td>\n",
       "      <td>27</td>\n",
       "      <td>42</td>\n",
       "    </tr>\n",
       "    <tr>\n",
       "      <th>Crystal Palace</th>\n",
       "      <td>19</td>\n",
       "      <td>23</td>\n",
       "      <td>-4</td>\n",
       "      <td>20</td>\n",
       "    </tr>\n",
       "    <tr>\n",
       "      <th>Everton</th>\n",
       "      <td>30</td>\n",
       "      <td>21</td>\n",
       "      <td>9</td>\n",
       "      <td>34</td>\n",
       "    </tr>\n",
       "    <tr>\n",
       "      <th>Fulham</th>\n",
       "      <td>22</td>\n",
       "      <td>36</td>\n",
       "      <td>-14</td>\n",
       "      <td>21</td>\n",
       "    </tr>\n",
       "    <tr>\n",
       "      <th>Huddersfield</th>\n",
       "      <td>10</td>\n",
       "      <td>31</td>\n",
       "      <td>-21</td>\n",
       "      <td>9</td>\n",
       "    </tr>\n",
       "    <tr>\n",
       "      <th>Leicester City</th>\n",
       "      <td>24</td>\n",
       "      <td>20</td>\n",
       "      <td>4</td>\n",
       "      <td>27</td>\n",
       "    </tr>\n",
       "    <tr>\n",
       "      <th>Liverpool</th>\n",
       "      <td>55</td>\n",
       "      <td>10</td>\n",
       "      <td>45</td>\n",
       "      <td>53</td>\n",
       "    </tr>\n",
       "    <tr>\n",
       "      <th>Manchester City</th>\n",
       "      <td>57</td>\n",
       "      <td>12</td>\n",
       "      <td>45</td>\n",
       "      <td>54</td>\n",
       "    </tr>\n",
       "    <tr>\n",
       "      <th>Manchester United</th>\n",
       "      <td>33</td>\n",
       "      <td>25</td>\n",
       "      <td>8</td>\n",
       "      <td>36</td>\n",
       "    </tr>\n",
       "    <tr>\n",
       "      <th>Newcastle United</th>\n",
       "      <td>24</td>\n",
       "      <td>25</td>\n",
       "      <td>-1</td>\n",
       "      <td>25</td>\n",
       "    </tr>\n",
       "    <tr>\n",
       "      <th>Southampton</th>\n",
       "      <td>27</td>\n",
       "      <td>30</td>\n",
       "      <td>-3</td>\n",
       "      <td>23</td>\n",
       "    </tr>\n",
       "    <tr>\n",
       "      <th>Tottenham</th>\n",
       "      <td>34</td>\n",
       "      <td>16</td>\n",
       "      <td>18</td>\n",
       "      <td>38</td>\n",
       "    </tr>\n",
       "    <tr>\n",
       "      <th>Watford</th>\n",
       "      <td>26</td>\n",
       "      <td>28</td>\n",
       "      <td>-2</td>\n",
       "      <td>27</td>\n",
       "    </tr>\n",
       "    <tr>\n",
       "      <th>West Ham</th>\n",
       "      <td>32</td>\n",
       "      <td>27</td>\n",
       "      <td>5</td>\n",
       "      <td>31</td>\n",
       "    </tr>\n",
       "    <tr>\n",
       "      <th>Wolves</th>\n",
       "      <td>28</td>\n",
       "      <td>21</td>\n",
       "      <td>7</td>\n",
       "      <td>34</td>\n",
       "    </tr>\n",
       "  </tbody>\n",
       "</table>\n",
       "</div>"
      ],
      "text/plain": [
       "                   Home(F)  Home(A)  Home(Dif)  Points(H)\n",
       "Team                                                     \n",
       "Arsenal                 42       16         26         45\n",
       "Bournemouth             30       25          5         29\n",
       "Brighton                19       28         -9         23\n",
       "Burnley                 24       32         -8         23\n",
       "Cardiff                 21       38        -17         20\n",
       "Chelsea                 39       12         27         42\n",
       "Crystal Palace          19       23         -4         20\n",
       "Everton                 30       21          9         34\n",
       "Fulham                  22       36        -14         21\n",
       "Huddersfield            10       31        -21          9\n",
       "Leicester City          24       20          4         27\n",
       "Liverpool               55       10         45         53\n",
       "Manchester City         57       12         45         54\n",
       "Manchester United       33       25          8         36\n",
       "Newcastle United        24       25         -1         25\n",
       "Southampton             27       30         -3         23\n",
       "Tottenham               34       16         18         38\n",
       "Watford                 26       28         -2         27\n",
       "West Ham                32       27          5         31\n",
       "Wolves                  28       21          7         34"
      ]
     },
     "execution_count": 27,
     "metadata": {},
     "output_type": "execute_result"
    }
   ],
   "source": [
    "home = home.sort_values(by = \"Team\")\n",
    "home"
   ]
  },
  {
   "cell_type": "code",
   "execution_count": 28,
   "metadata": {},
   "outputs": [
    {
     "data": {
      "text/plain": [
       "1.568421052631579"
      ]
     },
     "execution_count": 28,
     "metadata": {},
     "output_type": "execute_result"
    }
   ],
   "source": [
    "# average goals score per home game by home team\n",
    "29.8/19"
   ]
  },
  {
   "cell_type": "code",
   "execution_count": 29,
   "metadata": {},
   "outputs": [],
   "source": [
    "# array of home team's goals score \n",
    "home_ac = (42, 30, 19, 24, 21, 39, 19, 30, 22, 10, 24, 55, 57, 33, 24, 27, 34, 26, 32, 28)\n",
    "\n",
    "# divided goals by number of games \n",
    "home_ac = np.divide(home_ac, 19)\n",
    "\n",
    "# divided by average of goal per game and multiplied by average goals \n",
    "home_ac = (np.divide(home_ac, 1.57))*29.8\n"
   ]
  },
  {
   "cell_type": "code",
   "execution_count": 30,
   "metadata": {},
   "outputs": [],
   "source": [
    "# imported blank league table in alphabetical order\n",
    "pl_new = pd.read_csv(\"league_table_blank.csv\", index_col=\"Team\", names=[\"Team\", \"Home(F)\", \"Home(A)\", \"Away(F)\", \"Away(A)\"]);"
   ]
  },
  {
   "cell_type": "code",
   "execution_count": 31,
   "metadata": {},
   "outputs": [],
   "source": [
    "# added home goals scored to dataframe\n",
    "pl_new[\"Home(F)\"] = np.random.poisson(lam=home_ac, size=(20))"
   ]
  },
  {
   "cell_type": "code",
   "execution_count": null,
   "metadata": {},
   "outputs": [],
   "source": []
  },
  {
   "cell_type": "markdown",
   "metadata": {},
   "source": [
    "## Goals Conceded"
   ]
  },
  {
   "cell_type": "code",
   "execution_count": 32,
   "metadata": {},
   "outputs": [
    {
     "data": {
      "text/plain": [
       "1.2526315789473685"
      ]
     },
     "execution_count": 32,
     "metadata": {},
     "output_type": "execute_result"
    }
   ],
   "source": [
    "# average goals conceded per home game by home team\n",
    "23.8/19"
   ]
  },
  {
   "cell_type": "code",
   "execution_count": 33,
   "metadata": {},
   "outputs": [],
   "source": [
    "# array of goals conceded by home teams\n",
    "home_dc = (16, 25, 28, 32, 38, 12, 23, 21, 36, 31, 20, 10, 12, 25, 25, 30, 16, 28, 27, 21)\n",
    "\n",
    "# divided goals by number of games \n",
    "home_dc = np.divide(home_dc, 19)\n",
    "\n",
    "# divided by average goals per game and multiplied by average goals conceded at home\n",
    "home_dc = (np.divide(home_dc, 1.25))*23.8\n",
    "           \n",
    "                                                                                                           "
   ]
  },
  {
   "cell_type": "code",
   "execution_count": 34,
   "metadata": {},
   "outputs": [],
   "source": [
    "# added goals conceded at home to dataframe \n",
    "pl_new[\"Home(A)\"] = np.random.poisson(lam=home_dc, size=(20))"
   ]
  },
  {
   "cell_type": "code",
   "execution_count": 35,
   "metadata": {},
   "outputs": [],
   "source": [
    "# added home goal difference to dataframe\n",
    "pl_new[\"Home(Dif)\"] = pl_new[\"Home(F)\"] - pl_new[\"Home(A)\"]"
   ]
  },
  {
   "cell_type": "code",
   "execution_count": null,
   "metadata": {},
   "outputs": [],
   "source": []
  },
  {
   "cell_type": "code",
   "execution_count": null,
   "metadata": {},
   "outputs": [],
   "source": []
  },
  {
   "cell_type": "markdown",
   "metadata": {},
   "source": [
    "# Random Away Team Data"
   ]
  },
  {
   "cell_type": "code",
   "execution_count": 36,
   "metadata": {},
   "outputs": [
    {
     "data": {
      "text/plain": [
       "Away(F)      23.80\n",
       "Away(A)      29.80\n",
       "Away(Dif)    -6.00\n",
       "Points(A)    22.75\n",
       "dtype: float64"
      ]
     },
     "execution_count": 36,
     "metadata": {},
     "output_type": "execute_result"
    }
   ],
   "source": [
    "# mean of away dataframe\n",
    "away.mean()"
   ]
  },
  {
   "cell_type": "code",
   "execution_count": 37,
   "metadata": {},
   "outputs": [
    {
     "data": {
      "text/html": [
       "<div>\n",
       "<style scoped>\n",
       "    .dataframe tbody tr th:only-of-type {\n",
       "        vertical-align: middle;\n",
       "    }\n",
       "\n",
       "    .dataframe tbody tr th {\n",
       "        vertical-align: top;\n",
       "    }\n",
       "\n",
       "    .dataframe thead th {\n",
       "        text-align: right;\n",
       "    }\n",
       "</style>\n",
       "<table border=\"1\" class=\"dataframe\">\n",
       "  <thead>\n",
       "    <tr style=\"text-align: right;\">\n",
       "      <th></th>\n",
       "      <th>Away(F)</th>\n",
       "      <th>Away(A)</th>\n",
       "      <th>Away(Dif)</th>\n",
       "      <th>Points(A)</th>\n",
       "    </tr>\n",
       "    <tr>\n",
       "      <th>Team</th>\n",
       "      <th></th>\n",
       "      <th></th>\n",
       "      <th></th>\n",
       "      <th></th>\n",
       "    </tr>\n",
       "  </thead>\n",
       "  <tbody>\n",
       "    <tr>\n",
       "      <th>Arsenal</th>\n",
       "      <td>31</td>\n",
       "      <td>35</td>\n",
       "      <td>-4</td>\n",
       "      <td>25</td>\n",
       "    </tr>\n",
       "    <tr>\n",
       "      <th>Bournemouth</th>\n",
       "      <td>26</td>\n",
       "      <td>45</td>\n",
       "      <td>-19</td>\n",
       "      <td>16</td>\n",
       "    </tr>\n",
       "    <tr>\n",
       "      <th>Brighton</th>\n",
       "      <td>16</td>\n",
       "      <td>32</td>\n",
       "      <td>-16</td>\n",
       "      <td>13</td>\n",
       "    </tr>\n",
       "    <tr>\n",
       "      <th>Burnley</th>\n",
       "      <td>21</td>\n",
       "      <td>36</td>\n",
       "      <td>-15</td>\n",
       "      <td>17</td>\n",
       "    </tr>\n",
       "    <tr>\n",
       "      <th>Cardiff</th>\n",
       "      <td>13</td>\n",
       "      <td>31</td>\n",
       "      <td>-18</td>\n",
       "      <td>14</td>\n",
       "    </tr>\n",
       "    <tr>\n",
       "      <th>Chelsea</th>\n",
       "      <td>24</td>\n",
       "      <td>27</td>\n",
       "      <td>-3</td>\n",
       "      <td>30</td>\n",
       "    </tr>\n",
       "    <tr>\n",
       "      <th>Crystal Palace</th>\n",
       "      <td>32</td>\n",
       "      <td>30</td>\n",
       "      <td>2</td>\n",
       "      <td>29</td>\n",
       "    </tr>\n",
       "    <tr>\n",
       "      <th>Everton</th>\n",
       "      <td>24</td>\n",
       "      <td>25</td>\n",
       "      <td>-1</td>\n",
       "      <td>20</td>\n",
       "    </tr>\n",
       "    <tr>\n",
       "      <th>Fulham</th>\n",
       "      <td>12</td>\n",
       "      <td>45</td>\n",
       "      <td>-33</td>\n",
       "      <td>5</td>\n",
       "    </tr>\n",
       "    <tr>\n",
       "      <th>Huddersfield</th>\n",
       "      <td>12</td>\n",
       "      <td>45</td>\n",
       "      <td>-33</td>\n",
       "      <td>7</td>\n",
       "    </tr>\n",
       "    <tr>\n",
       "      <th>Leicester City</th>\n",
       "      <td>27</td>\n",
       "      <td>28</td>\n",
       "      <td>-1</td>\n",
       "      <td>25</td>\n",
       "    </tr>\n",
       "    <tr>\n",
       "      <th>Liverpool</th>\n",
       "      <td>34</td>\n",
       "      <td>12</td>\n",
       "      <td>22</td>\n",
       "      <td>44</td>\n",
       "    </tr>\n",
       "    <tr>\n",
       "      <th>Manchester City</th>\n",
       "      <td>38</td>\n",
       "      <td>11</td>\n",
       "      <td>27</td>\n",
       "      <td>44</td>\n",
       "    </tr>\n",
       "    <tr>\n",
       "      <th>Manchester United</th>\n",
       "      <td>32</td>\n",
       "      <td>29</td>\n",
       "      <td>3</td>\n",
       "      <td>30</td>\n",
       "    </tr>\n",
       "    <tr>\n",
       "      <th>Newcastle United</th>\n",
       "      <td>18</td>\n",
       "      <td>23</td>\n",
       "      <td>-5</td>\n",
       "      <td>20</td>\n",
       "    </tr>\n",
       "    <tr>\n",
       "      <th>Southampton</th>\n",
       "      <td>18</td>\n",
       "      <td>35</td>\n",
       "      <td>-17</td>\n",
       "      <td>16</td>\n",
       "    </tr>\n",
       "    <tr>\n",
       "      <th>Tottenham</th>\n",
       "      <td>33</td>\n",
       "      <td>23</td>\n",
       "      <td>10</td>\n",
       "      <td>33</td>\n",
       "    </tr>\n",
       "    <tr>\n",
       "      <th>Watford</th>\n",
       "      <td>26</td>\n",
       "      <td>31</td>\n",
       "      <td>-5</td>\n",
       "      <td>23</td>\n",
       "    </tr>\n",
       "    <tr>\n",
       "      <th>West Ham</th>\n",
       "      <td>20</td>\n",
       "      <td>28</td>\n",
       "      <td>-8</td>\n",
       "      <td>21</td>\n",
       "    </tr>\n",
       "    <tr>\n",
       "      <th>Wolves</th>\n",
       "      <td>19</td>\n",
       "      <td>25</td>\n",
       "      <td>-6</td>\n",
       "      <td>23</td>\n",
       "    </tr>\n",
       "  </tbody>\n",
       "</table>\n",
       "</div>"
      ],
      "text/plain": [
       "                   Away(F)  Away(A)  Away(Dif)  Points(A)\n",
       "Team                                                     \n",
       "Arsenal                 31       35         -4         25\n",
       "Bournemouth             26       45        -19         16\n",
       "Brighton                16       32        -16         13\n",
       "Burnley                 21       36        -15         17\n",
       "Cardiff                 13       31        -18         14\n",
       "Chelsea                 24       27         -3         30\n",
       "Crystal Palace          32       30          2         29\n",
       "Everton                 24       25         -1         20\n",
       "Fulham                  12       45        -33          5\n",
       "Huddersfield            12       45        -33          7\n",
       "Leicester City          27       28         -1         25\n",
       "Liverpool               34       12         22         44\n",
       "Manchester City         38       11         27         44\n",
       "Manchester United       32       29          3         30\n",
       "Newcastle United        18       23         -5         20\n",
       "Southampton             18       35        -17         16\n",
       "Tottenham               33       23         10         33\n",
       "Watford                 26       31         -5         23\n",
       "West Ham                20       28         -8         21\n",
       "Wolves                  19       25         -6         23"
      ]
     },
     "execution_count": 37,
     "metadata": {},
     "output_type": "execute_result"
    }
   ],
   "source": [
    "# alphabethically ordered away team table \n",
    "away = away.sort_values(by = \"Team\")\n",
    "away"
   ]
  },
  {
   "cell_type": "markdown",
   "metadata": {},
   "source": [
    "The total goals scored away from home must be equal to the total number of goals conceded at home. Likewise the total goals conceded away from home must be equal to the total number of goals scored at home. The method used to achieve this will be to generate a random array of goals conceded by each team. This goals will then be divided by the sum of all goals conceded away from home and multiple by the total number of goals scored at home. The will give an array of floats which will need to be converted to integers while still retaining the original sum. This will be achieved by using saferound function of the iteround package."
   ]
  },
  {
   "cell_type": "markdown",
   "metadata": {},
   "source": [
    "## Goals Scored "
   ]
  },
  {
   "cell_type": "code",
   "execution_count": 38,
   "metadata": {},
   "outputs": [
    {
     "data": {
      "text/plain": [
       "1.2526315789473685"
      ]
     },
     "execution_count": 38,
     "metadata": {},
     "output_type": "execute_result"
    }
   ],
   "source": [
    "# average goals scored by away team per game\n",
    "23.8/19"
   ]
  },
  {
   "cell_type": "code",
   "execution_count": 39,
   "metadata": {},
   "outputs": [],
   "source": [
    "# away team attacking coefficient in alphabetical order\n",
    "away_ac = (31, 26, 16, 21, 13, 24, 32, 24, 12, 12, 27, 34, 38, 32, 18, 18, 33, 26, 20, 19)\n",
    "\n",
    "away_ac = np.divide(away_ac, 19)\n",
    "\n",
    "away_ac = (np.divide(away_ac, 1.25))*23.8;"
   ]
  },
  {
   "cell_type": "code",
   "execution_count": 40,
   "metadata": {},
   "outputs": [],
   "source": [
    "# total home goals conceded \n",
    "tha = pl_new[\"Home(A)\"].sum()\n",
    "\n",
    "# generated random goals scored data for each team\n",
    "awf = np.random.poisson(lam=away_ac, size=(20))\n",
    "\n",
    "# calculated sum of random array\n",
    "awfsum = awf.sum()\n",
    "\n",
    "# divide array by its sum \n",
    "awf = np.divide(awf, awfsum)\n",
    "\n",
    "# multiplied by sum of total goals conceded at home \n",
    "awf = awf*tha\n",
    "\n",
    "# round floats to integers while maintaining sum\n",
    "awf = saferound(awf, places=0)\n",
    "\n",
    "# converted list to array \n",
    "awf = np.asarray(awf)\n",
    "\n",
    "# converted type from float to array \n",
    "awf = awf.astype(int)\n",
    "\n",
    "# added new column to array of goals scored away from home\n",
    "pl_new[\"Away(F)\"] = awf;"
   ]
  },
  {
   "cell_type": "code",
   "execution_count": null,
   "metadata": {},
   "outputs": [],
   "source": []
  },
  {
   "cell_type": "code",
   "execution_count": null,
   "metadata": {},
   "outputs": [],
   "source": []
  },
  {
   "cell_type": "code",
   "execution_count": null,
   "metadata": {},
   "outputs": [],
   "source": []
  },
  {
   "cell_type": "markdown",
   "metadata": {},
   "source": [
    "## Goals Conceded "
   ]
  },
  {
   "cell_type": "code",
   "execution_count": 41,
   "metadata": {},
   "outputs": [
    {
     "data": {
      "text/plain": [
       "1.568421052631579"
      ]
     },
     "execution_count": 41,
     "metadata": {},
     "output_type": "execute_result"
    }
   ],
   "source": [
    "# average goals conceded per game by away team\n",
    "29.8/19"
   ]
  },
  {
   "cell_type": "code",
   "execution_count": 42,
   "metadata": {},
   "outputs": [],
   "source": [
    "# array containing number of goals each team conceded in the previous season\n",
    "away_dc = (35, 45, 32, 36, 31, 27, 30, 25, 45, 45, 28, 12, 11, 29, 23, 35, 23, 31, 28, 25)\n",
    "\n",
    "# divided contents of array by number of games played  \n",
    "away_dc = np.divide(away_dc, 19)\n",
    "\n",
    "# divided contents of array by average goals conceded per match and multiplied by average goals \n",
    "away_dc = (np.divide(away_dc, 1.57))*29.8;\n"
   ]
  },
  {
   "cell_type": "code",
   "execution_count": 43,
   "metadata": {},
   "outputs": [],
   "source": [
    "# total home goals scored \n",
    "thf = pl_new[\"Home(F)\"].sum()\n",
    "\n",
    "# generated random goals conceded data for each team\n",
    "awa = np.random.poisson(lam=away_dc, size=(20))\n",
    "\n",
    "# calculated sum of random array\n",
    "awasum = awa.sum()\n",
    "\n",
    "# divide array by its sum \n",
    "awa = np.divide(awa, awasum)\n",
    "\n",
    "# multiplied by sum of total goals scored at home \n",
    "awa = awa*thf\n",
    "\n",
    "# round floats to integers while maintaining sum\n",
    "awa = saferound(awa, places=0)\n",
    "\n",
    "# converted list to array \n",
    "awa = np.asarray(awa)\n",
    "\n",
    "# converted type from float to array \n",
    "awa = awa.astype(int)\n",
    "\n",
    "# added new column to data frame of goals conceded away from home \n",
    "pl_new[\"Away(A)\"] = awa;"
   ]
  },
  {
   "cell_type": "code",
   "execution_count": 44,
   "metadata": {},
   "outputs": [],
   "source": [
    "# added new column of away goal difference \n",
    "pl_new[\"Away(Dif)\"] = pl_new[\"Away(F)\"] - pl_new[\"Away(A)\"];"
   ]
  },
  {
   "cell_type": "code",
   "execution_count": 45,
   "metadata": {},
   "outputs": [],
   "source": [
    "# addewd new column of total goal difference\n",
    "pl_new[\"Total(Dif)\"] = pl_new[\"Home(Dif)\"] + pl_new[\"Away(Dif)\"];"
   ]
  },
  {
   "cell_type": "code",
   "execution_count": 46,
   "metadata": {},
   "outputs": [
    {
     "data": {
      "text/html": [
       "<div>\n",
       "<style scoped>\n",
       "    .dataframe tbody tr th:only-of-type {\n",
       "        vertical-align: middle;\n",
       "    }\n",
       "\n",
       "    .dataframe tbody tr th {\n",
       "        vertical-align: top;\n",
       "    }\n",
       "\n",
       "    .dataframe thead th {\n",
       "        text-align: right;\n",
       "    }\n",
       "</style>\n",
       "<table border=\"1\" class=\"dataframe\">\n",
       "  <thead>\n",
       "    <tr style=\"text-align: right;\">\n",
       "      <th></th>\n",
       "      <th>Home(F)</th>\n",
       "      <th>Home(A)</th>\n",
       "      <th>Away(F)</th>\n",
       "      <th>Away(A)</th>\n",
       "      <th>Home(Dif)</th>\n",
       "      <th>Away(Dif)</th>\n",
       "      <th>Total(Dif)</th>\n",
       "    </tr>\n",
       "    <tr>\n",
       "      <th>Team</th>\n",
       "      <th></th>\n",
       "      <th></th>\n",
       "      <th></th>\n",
       "      <th></th>\n",
       "      <th></th>\n",
       "      <th></th>\n",
       "      <th></th>\n",
       "    </tr>\n",
       "  </thead>\n",
       "  <tbody>\n",
       "    <tr>\n",
       "      <th>Arsenal</th>\n",
       "      <td>33</td>\n",
       "      <td>17</td>\n",
       "      <td>32</td>\n",
       "      <td>39</td>\n",
       "      <td>16</td>\n",
       "      <td>-7</td>\n",
       "      <td>9</td>\n",
       "    </tr>\n",
       "    <tr>\n",
       "      <th>Bournemouth</th>\n",
       "      <td>26</td>\n",
       "      <td>28</td>\n",
       "      <td>29</td>\n",
       "      <td>51</td>\n",
       "      <td>-2</td>\n",
       "      <td>-22</td>\n",
       "      <td>-24</td>\n",
       "    </tr>\n",
       "    <tr>\n",
       "      <th>Brighton</th>\n",
       "      <td>20</td>\n",
       "      <td>27</td>\n",
       "      <td>15</td>\n",
       "      <td>25</td>\n",
       "      <td>-7</td>\n",
       "      <td>-10</td>\n",
       "      <td>-17</td>\n",
       "    </tr>\n",
       "    <tr>\n",
       "      <th>Burnley</th>\n",
       "      <td>24</td>\n",
       "      <td>27</td>\n",
       "      <td>17</td>\n",
       "      <td>29</td>\n",
       "      <td>-3</td>\n",
       "      <td>-12</td>\n",
       "      <td>-15</td>\n",
       "    </tr>\n",
       "    <tr>\n",
       "      <th>Cardiff</th>\n",
       "      <td>25</td>\n",
       "      <td>36</td>\n",
       "      <td>9</td>\n",
       "      <td>39</td>\n",
       "      <td>-11</td>\n",
       "      <td>-30</td>\n",
       "      <td>-41</td>\n",
       "    </tr>\n",
       "    <tr>\n",
       "      <th>Chelsea</th>\n",
       "      <td>35</td>\n",
       "      <td>12</td>\n",
       "      <td>28</td>\n",
       "      <td>22</td>\n",
       "      <td>23</td>\n",
       "      <td>6</td>\n",
       "      <td>29</td>\n",
       "    </tr>\n",
       "    <tr>\n",
       "      <th>Crystal Palace</th>\n",
       "      <td>19</td>\n",
       "      <td>27</td>\n",
       "      <td>49</td>\n",
       "      <td>31</td>\n",
       "      <td>-8</td>\n",
       "      <td>18</td>\n",
       "      <td>10</td>\n",
       "    </tr>\n",
       "    <tr>\n",
       "      <th>Everton</th>\n",
       "      <td>30</td>\n",
       "      <td>17</td>\n",
       "      <td>29</td>\n",
       "      <td>24</td>\n",
       "      <td>13</td>\n",
       "      <td>5</td>\n",
       "      <td>18</td>\n",
       "    </tr>\n",
       "    <tr>\n",
       "      <th>Fulham</th>\n",
       "      <td>30</td>\n",
       "      <td>39</td>\n",
       "      <td>11</td>\n",
       "      <td>45</td>\n",
       "      <td>-9</td>\n",
       "      <td>-34</td>\n",
       "      <td>-43</td>\n",
       "    </tr>\n",
       "    <tr>\n",
       "      <th>Huddersfield</th>\n",
       "      <td>9</td>\n",
       "      <td>34</td>\n",
       "      <td>8</td>\n",
       "      <td>43</td>\n",
       "      <td>-25</td>\n",
       "      <td>-35</td>\n",
       "      <td>-60</td>\n",
       "    </tr>\n",
       "    <tr>\n",
       "      <th>Leicester City</th>\n",
       "      <td>20</td>\n",
       "      <td>13</td>\n",
       "      <td>20</td>\n",
       "      <td>24</td>\n",
       "      <td>7</td>\n",
       "      <td>-4</td>\n",
       "      <td>3</td>\n",
       "    </tr>\n",
       "    <tr>\n",
       "      <th>Liverpool</th>\n",
       "      <td>48</td>\n",
       "      <td>12</td>\n",
       "      <td>25</td>\n",
       "      <td>10</td>\n",
       "      <td>36</td>\n",
       "      <td>15</td>\n",
       "      <td>51</td>\n",
       "    </tr>\n",
       "    <tr>\n",
       "      <th>Manchester City</th>\n",
       "      <td>63</td>\n",
       "      <td>9</td>\n",
       "      <td>30</td>\n",
       "      <td>5</td>\n",
       "      <td>54</td>\n",
       "      <td>25</td>\n",
       "      <td>79</td>\n",
       "    </tr>\n",
       "    <tr>\n",
       "      <th>Manchester United</th>\n",
       "      <td>28</td>\n",
       "      <td>26</td>\n",
       "      <td>36</td>\n",
       "      <td>33</td>\n",
       "      <td>2</td>\n",
       "      <td>3</td>\n",
       "      <td>5</td>\n",
       "    </tr>\n",
       "    <tr>\n",
       "      <th>Newcastle United</th>\n",
       "      <td>24</td>\n",
       "      <td>41</td>\n",
       "      <td>12</td>\n",
       "      <td>22</td>\n",
       "      <td>-17</td>\n",
       "      <td>-10</td>\n",
       "      <td>-27</td>\n",
       "    </tr>\n",
       "    <tr>\n",
       "      <th>Southampton</th>\n",
       "      <td>36</td>\n",
       "      <td>33</td>\n",
       "      <td>28</td>\n",
       "      <td>33</td>\n",
       "      <td>3</td>\n",
       "      <td>-5</td>\n",
       "      <td>-2</td>\n",
       "    </tr>\n",
       "    <tr>\n",
       "      <th>Tottenham</th>\n",
       "      <td>32</td>\n",
       "      <td>21</td>\n",
       "      <td>46</td>\n",
       "      <td>23</td>\n",
       "      <td>11</td>\n",
       "      <td>23</td>\n",
       "      <td>34</td>\n",
       "    </tr>\n",
       "    <tr>\n",
       "      <th>Watford</th>\n",
       "      <td>23</td>\n",
       "      <td>35</td>\n",
       "      <td>24</td>\n",
       "      <td>32</td>\n",
       "      <td>-12</td>\n",
       "      <td>-8</td>\n",
       "      <td>-20</td>\n",
       "    </tr>\n",
       "    <tr>\n",
       "      <th>West Ham</th>\n",
       "      <td>35</td>\n",
       "      <td>27</td>\n",
       "      <td>29</td>\n",
       "      <td>28</td>\n",
       "      <td>8</td>\n",
       "      <td>1</td>\n",
       "      <td>9</td>\n",
       "    </tr>\n",
       "    <tr>\n",
       "      <th>Wolves</th>\n",
       "      <td>22</td>\n",
       "      <td>16</td>\n",
       "      <td>20</td>\n",
       "      <td>24</td>\n",
       "      <td>6</td>\n",
       "      <td>-4</td>\n",
       "      <td>2</td>\n",
       "    </tr>\n",
       "  </tbody>\n",
       "</table>\n",
       "</div>"
      ],
      "text/plain": [
       "                   Home(F)  Home(A)  Away(F)  Away(A)  Home(Dif)  Away(Dif)  \\\n",
       "Team                                                                          \n",
       "Arsenal                 33       17       32       39         16         -7   \n",
       "Bournemouth             26       28       29       51         -2        -22   \n",
       "Brighton                20       27       15       25         -7        -10   \n",
       "Burnley                 24       27       17       29         -3        -12   \n",
       "Cardiff                 25       36        9       39        -11        -30   \n",
       "Chelsea                 35       12       28       22         23          6   \n",
       "Crystal Palace          19       27       49       31         -8         18   \n",
       "Everton                 30       17       29       24         13          5   \n",
       "Fulham                  30       39       11       45         -9        -34   \n",
       "Huddersfield             9       34        8       43        -25        -35   \n",
       "Leicester City          20       13       20       24          7         -4   \n",
       "Liverpool               48       12       25       10         36         15   \n",
       "Manchester City         63        9       30        5         54         25   \n",
       "Manchester United       28       26       36       33          2          3   \n",
       "Newcastle United        24       41       12       22        -17        -10   \n",
       "Southampton             36       33       28       33          3         -5   \n",
       "Tottenham               32       21       46       23         11         23   \n",
       "Watford                 23       35       24       32        -12         -8   \n",
       "West Ham                35       27       29       28          8          1   \n",
       "Wolves                  22       16       20       24          6         -4   \n",
       "\n",
       "                   Total(Dif)  \n",
       "Team                           \n",
       "Arsenal                     9  \n",
       "Bournemouth               -24  \n",
       "Brighton                  -17  \n",
       "Burnley                   -15  \n",
       "Cardiff                   -41  \n",
       "Chelsea                    29  \n",
       "Crystal Palace             10  \n",
       "Everton                    18  \n",
       "Fulham                    -43  \n",
       "Huddersfield              -60  \n",
       "Leicester City              3  \n",
       "Liverpool                  51  \n",
       "Manchester City            79  \n",
       "Manchester United           5  \n",
       "Newcastle United          -27  \n",
       "Southampton                -2  \n",
       "Tottenham                  34  \n",
       "Watford                   -20  \n",
       "West Ham                    9  \n",
       "Wolves                      2  "
      ]
     },
     "execution_count": 46,
     "metadata": {},
     "output_type": "execute_result"
    }
   ],
   "source": [
    "pl_new"
   ]
  },
  {
   "cell_type": "code",
   "execution_count": 47,
   "metadata": {},
   "outputs": [
    {
     "data": {
      "text/plain": [
       "Home(F)       29.10\n",
       "Home(A)       24.85\n",
       "Away(F)       24.85\n",
       "Away(A)       29.10\n",
       "Home(Dif)      4.25\n",
       "Away(Dif)     -4.25\n",
       "Total(Dif)     0.00\n",
       "dtype: float64"
      ]
     },
     "execution_count": 47,
     "metadata": {},
     "output_type": "execute_result"
    }
   ],
   "source": [
    "pl_new.mean()"
   ]
  },
  {
   "cell_type": "code",
   "execution_count": null,
   "metadata": {},
   "outputs": [],
   "source": []
  },
  {
   "cell_type": "markdown",
   "metadata": {},
   "source": [
    "# Random Points Data"
   ]
  },
  {
   "cell_type": "markdown",
   "metadata": {},
   "source": [
    "## Home Points"
   ]
  },
  {
   "cell_type": "code",
   "execution_count": 48,
   "metadata": {},
   "outputs": [
    {
     "data": {
      "text/html": [
       "<div>\n",
       "<style scoped>\n",
       "    .dataframe tbody tr th:only-of-type {\n",
       "        vertical-align: middle;\n",
       "    }\n",
       "\n",
       "    .dataframe tbody tr th {\n",
       "        vertical-align: top;\n",
       "    }\n",
       "\n",
       "    .dataframe thead th {\n",
       "        text-align: right;\n",
       "    }\n",
       "</style>\n",
       "<table border=\"1\" class=\"dataframe\">\n",
       "  <thead>\n",
       "    <tr style=\"text-align: right;\">\n",
       "      <th></th>\n",
       "      <th>Home(F)</th>\n",
       "      <th>Home(A)</th>\n",
       "      <th>Home(Dif)</th>\n",
       "    </tr>\n",
       "    <tr>\n",
       "      <th>Team</th>\n",
       "      <th></th>\n",
       "      <th></th>\n",
       "      <th></th>\n",
       "    </tr>\n",
       "  </thead>\n",
       "  <tbody>\n",
       "    <tr>\n",
       "      <th>Manchester City</th>\n",
       "      <td>63</td>\n",
       "      <td>9</td>\n",
       "      <td>54</td>\n",
       "    </tr>\n",
       "    <tr>\n",
       "      <th>Liverpool</th>\n",
       "      <td>48</td>\n",
       "      <td>12</td>\n",
       "      <td>36</td>\n",
       "    </tr>\n",
       "    <tr>\n",
       "      <th>Chelsea</th>\n",
       "      <td>35</td>\n",
       "      <td>12</td>\n",
       "      <td>23</td>\n",
       "    </tr>\n",
       "    <tr>\n",
       "      <th>Arsenal</th>\n",
       "      <td>33</td>\n",
       "      <td>17</td>\n",
       "      <td>16</td>\n",
       "    </tr>\n",
       "    <tr>\n",
       "      <th>Everton</th>\n",
       "      <td>30</td>\n",
       "      <td>17</td>\n",
       "      <td>13</td>\n",
       "    </tr>\n",
       "    <tr>\n",
       "      <th>Tottenham</th>\n",
       "      <td>32</td>\n",
       "      <td>21</td>\n",
       "      <td>11</td>\n",
       "    </tr>\n",
       "    <tr>\n",
       "      <th>West Ham</th>\n",
       "      <td>35</td>\n",
       "      <td>27</td>\n",
       "      <td>8</td>\n",
       "    </tr>\n",
       "    <tr>\n",
       "      <th>Leicester City</th>\n",
       "      <td>20</td>\n",
       "      <td>13</td>\n",
       "      <td>7</td>\n",
       "    </tr>\n",
       "    <tr>\n",
       "      <th>Wolves</th>\n",
       "      <td>22</td>\n",
       "      <td>16</td>\n",
       "      <td>6</td>\n",
       "    </tr>\n",
       "    <tr>\n",
       "      <th>Southampton</th>\n",
       "      <td>36</td>\n",
       "      <td>33</td>\n",
       "      <td>3</td>\n",
       "    </tr>\n",
       "    <tr>\n",
       "      <th>Manchester United</th>\n",
       "      <td>28</td>\n",
       "      <td>26</td>\n",
       "      <td>2</td>\n",
       "    </tr>\n",
       "    <tr>\n",
       "      <th>Bournemouth</th>\n",
       "      <td>26</td>\n",
       "      <td>28</td>\n",
       "      <td>-2</td>\n",
       "    </tr>\n",
       "    <tr>\n",
       "      <th>Burnley</th>\n",
       "      <td>24</td>\n",
       "      <td>27</td>\n",
       "      <td>-3</td>\n",
       "    </tr>\n",
       "    <tr>\n",
       "      <th>Brighton</th>\n",
       "      <td>20</td>\n",
       "      <td>27</td>\n",
       "      <td>-7</td>\n",
       "    </tr>\n",
       "    <tr>\n",
       "      <th>Crystal Palace</th>\n",
       "      <td>19</td>\n",
       "      <td>27</td>\n",
       "      <td>-8</td>\n",
       "    </tr>\n",
       "    <tr>\n",
       "      <th>Fulham</th>\n",
       "      <td>30</td>\n",
       "      <td>39</td>\n",
       "      <td>-9</td>\n",
       "    </tr>\n",
       "    <tr>\n",
       "      <th>Cardiff</th>\n",
       "      <td>25</td>\n",
       "      <td>36</td>\n",
       "      <td>-11</td>\n",
       "    </tr>\n",
       "    <tr>\n",
       "      <th>Watford</th>\n",
       "      <td>23</td>\n",
       "      <td>35</td>\n",
       "      <td>-12</td>\n",
       "    </tr>\n",
       "    <tr>\n",
       "      <th>Newcastle United</th>\n",
       "      <td>24</td>\n",
       "      <td>41</td>\n",
       "      <td>-17</td>\n",
       "    </tr>\n",
       "    <tr>\n",
       "      <th>Huddersfield</th>\n",
       "      <td>9</td>\n",
       "      <td>34</td>\n",
       "      <td>-25</td>\n",
       "    </tr>\n",
       "  </tbody>\n",
       "</table>\n",
       "</div>"
      ],
      "text/plain": [
       "                   Home(F)  Home(A)  Home(Dif)\n",
       "Team                                          \n",
       "Manchester City         63        9         54\n",
       "Liverpool               48       12         36\n",
       "Chelsea                 35       12         23\n",
       "Arsenal                 33       17         16\n",
       "Everton                 30       17         13\n",
       "Tottenham               32       21         11\n",
       "West Ham                35       27          8\n",
       "Leicester City          20       13          7\n",
       "Wolves                  22       16          6\n",
       "Southampton             36       33          3\n",
       "Manchester United       28       26          2\n",
       "Bournemouth             26       28         -2\n",
       "Burnley                 24       27         -3\n",
       "Brighton                20       27         -7\n",
       "Crystal Palace          19       27         -8\n",
       "Fulham                  30       39         -9\n",
       "Cardiff                 25       36        -11\n",
       "Watford                 23       35        -12\n",
       "Newcastle United        24       41        -17\n",
       "Huddersfield             9       34        -25"
      ]
     },
     "execution_count": 48,
     "metadata": {},
     "output_type": "execute_result"
    }
   ],
   "source": [
    "# created new home table \n",
    "home_new = pl_new[[\"Home(F)\", \"Home(A)\", \"Home(Dif)\"]]\n",
    "\n",
    "# sorted data by points difference \n",
    "home_new = home_new.sort_values(by = \"Home(Dif)\", ascending=False);\n",
    "home_new"
   ]
  },
  {
   "cell_type": "code",
   "execution_count": 49,
   "metadata": {},
   "outputs": [
    {
     "data": {
      "text/plain": [
       "Home(F)      29.10\n",
       "Home(A)      24.85\n",
       "Home(Dif)     4.25\n",
       "dtype: float64"
      ]
     },
     "execution_count": 49,
     "metadata": {},
     "output_type": "execute_result"
    }
   ],
   "source": [
    "home_new.mean()"
   ]
  },
  {
   "cell_type": "code",
   "execution_count": 50,
   "metadata": {},
   "outputs": [
    {
     "data": {
      "text/plain": [
       "Home(F)      29.8\n",
       "Home(A)      23.8\n",
       "Home(Dif)     6.0\n",
       "Points(H)    30.7\n",
       "dtype: float64"
      ]
     },
     "execution_count": 50,
     "metadata": {},
     "output_type": "execute_result"
    }
   ],
   "source": [
    "home.mean()"
   ]
  },
  {
   "cell_type": "code",
   "execution_count": 66,
   "metadata": {},
   "outputs": [
    {
     "data": {
      "text/html": [
       "<div>\n",
       "<style scoped>\n",
       "    .dataframe tbody tr th:only-of-type {\n",
       "        vertical-align: middle;\n",
       "    }\n",
       "\n",
       "    .dataframe tbody tr th {\n",
       "        vertical-align: top;\n",
       "    }\n",
       "\n",
       "    .dataframe thead th {\n",
       "        text-align: right;\n",
       "    }\n",
       "</style>\n",
       "<table border=\"1\" class=\"dataframe\">\n",
       "  <thead>\n",
       "    <tr style=\"text-align: right;\">\n",
       "      <th></th>\n",
       "      <th>Away(F)</th>\n",
       "      <th>Away(A)</th>\n",
       "      <th>Away(Dif)</th>\n",
       "      <th>Points(A)</th>\n",
       "    </tr>\n",
       "  </thead>\n",
       "  <tbody>\n",
       "    <tr>\n",
       "      <th>count</th>\n",
       "      <td>20.000000</td>\n",
       "      <td>20.000000</td>\n",
       "      <td>20.000000</td>\n",
       "      <td>20.000000</td>\n",
       "    </tr>\n",
       "    <tr>\n",
       "      <th>mean</th>\n",
       "      <td>23.800000</td>\n",
       "      <td>29.800000</td>\n",
       "      <td>-6.000000</td>\n",
       "      <td>22.750000</td>\n",
       "    </tr>\n",
       "    <tr>\n",
       "      <th>std</th>\n",
       "      <td>7.831112</td>\n",
       "      <td>9.225822</td>\n",
       "      <td>15.245362</td>\n",
       "      <td>10.361238</td>\n",
       "    </tr>\n",
       "    <tr>\n",
       "      <th>min</th>\n",
       "      <td>12.000000</td>\n",
       "      <td>11.000000</td>\n",
       "      <td>-33.000000</td>\n",
       "      <td>5.000000</td>\n",
       "    </tr>\n",
       "    <tr>\n",
       "      <th>25%</th>\n",
       "      <td>18.000000</td>\n",
       "      <td>25.000000</td>\n",
       "      <td>-16.250000</td>\n",
       "      <td>16.000000</td>\n",
       "    </tr>\n",
       "    <tr>\n",
       "      <th>50%</th>\n",
       "      <td>24.000000</td>\n",
       "      <td>29.500000</td>\n",
       "      <td>-5.000000</td>\n",
       "      <td>22.000000</td>\n",
       "    </tr>\n",
       "    <tr>\n",
       "      <th>75%</th>\n",
       "      <td>31.250000</td>\n",
       "      <td>35.000000</td>\n",
       "      <td>-0.250000</td>\n",
       "      <td>29.250000</td>\n",
       "    </tr>\n",
       "    <tr>\n",
       "      <th>max</th>\n",
       "      <td>38.000000</td>\n",
       "      <td>45.000000</td>\n",
       "      <td>27.000000</td>\n",
       "      <td>44.000000</td>\n",
       "    </tr>\n",
       "  </tbody>\n",
       "</table>\n",
       "</div>"
      ],
      "text/plain": [
       "         Away(F)    Away(A)  Away(Dif)  Points(A)\n",
       "count  20.000000  20.000000  20.000000  20.000000\n",
       "mean   23.800000  29.800000  -6.000000  22.750000\n",
       "std     7.831112   9.225822  15.245362  10.361238\n",
       "min    12.000000  11.000000 -33.000000   5.000000\n",
       "25%    18.000000  25.000000 -16.250000  16.000000\n",
       "50%    24.000000  29.500000  -5.000000  22.000000\n",
       "75%    31.250000  35.000000  -0.250000  29.250000\n",
       "max    38.000000  45.000000  27.000000  44.000000"
      ]
     },
     "execution_count": 66,
     "metadata": {},
     "output_type": "execute_result"
    }
   ],
   "source": [
    "away.describe()"
   ]
  },
  {
   "cell_type": "code",
   "execution_count": null,
   "metadata": {},
   "outputs": [],
   "source": []
  },
  {
   "cell_type": "code",
   "execution_count": null,
   "metadata": {},
   "outputs": [],
   "source": []
  },
  {
   "cell_type": "markdown",
   "metadata": {},
   "source": [
    "## TEST TEST TEST TEST TEST TEST"
   ]
  },
  {
   "cell_type": "code",
   "execution_count": 71,
   "metadata": {},
   "outputs": [
    {
     "data": {
      "text/plain": [
       "array([ 4, 18, 19, 21, 22, 24, 24, 24, 30, 33, 33, 36, 37, 38, 41, 43, 44,\n",
       "       46, 50, 55])"
      ]
     },
     "execution_count": 71,
     "metadata": {},
     "output_type": "execute_result"
    }
   ],
   "source": [
    "mu, sigma = 30.7, 11.49\n",
    "\n",
    "hp = np.random.normal(mu, sigma, 20)\n",
    "\n",
    "np.rint(hp)\n",
    "\n",
    "hp = hp.astype(int)\n",
    "\n",
    "np.sort(hp)"
   ]
  },
  {
   "cell_type": "markdown",
   "metadata": {},
   "source": [
    "## Away Points"
   ]
  },
  {
   "cell_type": "code",
   "execution_count": 55,
   "metadata": {},
   "outputs": [
    {
     "data": {
      "text/html": [
       "<div>\n",
       "<style scoped>\n",
       "    .dataframe tbody tr th:only-of-type {\n",
       "        vertical-align: middle;\n",
       "    }\n",
       "\n",
       "    .dataframe tbody tr th {\n",
       "        vertical-align: top;\n",
       "    }\n",
       "\n",
       "    .dataframe thead th {\n",
       "        text-align: right;\n",
       "    }\n",
       "</style>\n",
       "<table border=\"1\" class=\"dataframe\">\n",
       "  <thead>\n",
       "    <tr style=\"text-align: right;\">\n",
       "      <th></th>\n",
       "      <th>Away(F)</th>\n",
       "      <th>Away(A)</th>\n",
       "      <th>Away(Dif)</th>\n",
       "    </tr>\n",
       "    <tr>\n",
       "      <th>Team</th>\n",
       "      <th></th>\n",
       "      <th></th>\n",
       "      <th></th>\n",
       "    </tr>\n",
       "  </thead>\n",
       "  <tbody>\n",
       "    <tr>\n",
       "      <th>Manchester City</th>\n",
       "      <td>30</td>\n",
       "      <td>5</td>\n",
       "      <td>25</td>\n",
       "    </tr>\n",
       "    <tr>\n",
       "      <th>Tottenham</th>\n",
       "      <td>46</td>\n",
       "      <td>23</td>\n",
       "      <td>23</td>\n",
       "    </tr>\n",
       "    <tr>\n",
       "      <th>Crystal Palace</th>\n",
       "      <td>49</td>\n",
       "      <td>31</td>\n",
       "      <td>18</td>\n",
       "    </tr>\n",
       "    <tr>\n",
       "      <th>Liverpool</th>\n",
       "      <td>25</td>\n",
       "      <td>10</td>\n",
       "      <td>15</td>\n",
       "    </tr>\n",
       "    <tr>\n",
       "      <th>Chelsea</th>\n",
       "      <td>28</td>\n",
       "      <td>22</td>\n",
       "      <td>6</td>\n",
       "    </tr>\n",
       "    <tr>\n",
       "      <th>Everton</th>\n",
       "      <td>29</td>\n",
       "      <td>24</td>\n",
       "      <td>5</td>\n",
       "    </tr>\n",
       "    <tr>\n",
       "      <th>Manchester United</th>\n",
       "      <td>36</td>\n",
       "      <td>33</td>\n",
       "      <td>3</td>\n",
       "    </tr>\n",
       "    <tr>\n",
       "      <th>West Ham</th>\n",
       "      <td>29</td>\n",
       "      <td>28</td>\n",
       "      <td>1</td>\n",
       "    </tr>\n",
       "    <tr>\n",
       "      <th>Leicester City</th>\n",
       "      <td>20</td>\n",
       "      <td>24</td>\n",
       "      <td>-4</td>\n",
       "    </tr>\n",
       "    <tr>\n",
       "      <th>Wolves</th>\n",
       "      <td>20</td>\n",
       "      <td>24</td>\n",
       "      <td>-4</td>\n",
       "    </tr>\n",
       "    <tr>\n",
       "      <th>Southampton</th>\n",
       "      <td>28</td>\n",
       "      <td>33</td>\n",
       "      <td>-5</td>\n",
       "    </tr>\n",
       "    <tr>\n",
       "      <th>Arsenal</th>\n",
       "      <td>32</td>\n",
       "      <td>39</td>\n",
       "      <td>-7</td>\n",
       "    </tr>\n",
       "    <tr>\n",
       "      <th>Watford</th>\n",
       "      <td>24</td>\n",
       "      <td>32</td>\n",
       "      <td>-8</td>\n",
       "    </tr>\n",
       "    <tr>\n",
       "      <th>Newcastle United</th>\n",
       "      <td>12</td>\n",
       "      <td>22</td>\n",
       "      <td>-10</td>\n",
       "    </tr>\n",
       "    <tr>\n",
       "      <th>Brighton</th>\n",
       "      <td>15</td>\n",
       "      <td>25</td>\n",
       "      <td>-10</td>\n",
       "    </tr>\n",
       "    <tr>\n",
       "      <th>Burnley</th>\n",
       "      <td>17</td>\n",
       "      <td>29</td>\n",
       "      <td>-12</td>\n",
       "    </tr>\n",
       "    <tr>\n",
       "      <th>Bournemouth</th>\n",
       "      <td>29</td>\n",
       "      <td>51</td>\n",
       "      <td>-22</td>\n",
       "    </tr>\n",
       "    <tr>\n",
       "      <th>Cardiff</th>\n",
       "      <td>9</td>\n",
       "      <td>39</td>\n",
       "      <td>-30</td>\n",
       "    </tr>\n",
       "    <tr>\n",
       "      <th>Fulham</th>\n",
       "      <td>11</td>\n",
       "      <td>45</td>\n",
       "      <td>-34</td>\n",
       "    </tr>\n",
       "    <tr>\n",
       "      <th>Huddersfield</th>\n",
       "      <td>8</td>\n",
       "      <td>43</td>\n",
       "      <td>-35</td>\n",
       "    </tr>\n",
       "  </tbody>\n",
       "</table>\n",
       "</div>"
      ],
      "text/plain": [
       "                   Away(F)  Away(A)  Away(Dif)\n",
       "Team                                          \n",
       "Manchester City         30        5         25\n",
       "Tottenham               46       23         23\n",
       "Crystal Palace          49       31         18\n",
       "Liverpool               25       10         15\n",
       "Chelsea                 28       22          6\n",
       "Everton                 29       24          5\n",
       "Manchester United       36       33          3\n",
       "West Ham                29       28          1\n",
       "Leicester City          20       24         -4\n",
       "Wolves                  20       24         -4\n",
       "Southampton             28       33         -5\n",
       "Arsenal                 32       39         -7\n",
       "Watford                 24       32         -8\n",
       "Newcastle United        12       22        -10\n",
       "Brighton                15       25        -10\n",
       "Burnley                 17       29        -12\n",
       "Bournemouth             29       51        -22\n",
       "Cardiff                  9       39        -30\n",
       "Fulham                  11       45        -34\n",
       "Huddersfield             8       43        -35"
      ]
     },
     "execution_count": 55,
     "metadata": {},
     "output_type": "execute_result"
    }
   ],
   "source": [
    "# created new home table \n",
    "away_new = pl_new[[\"Away(F)\", \"Away(A)\", \"Away(Dif)\"]]\n",
    "\n",
    "# sorted data by points difference \n",
    "away_new = away_new.sort_values(by = \"Away(Dif)\", ascending=False);\n",
    "away_new"
   ]
  },
  {
   "cell_type": "code",
   "execution_count": 70,
   "metadata": {},
   "outputs": [
    {
     "data": {
      "text/plain": [
       "array([13, 16, 17, 19, 20, 22, 22, 23, 26, 26, 26, 27, 29, 29, 30, 32, 32,\n",
       "       36, 37, 45])"
      ]
     },
     "execution_count": 70,
     "metadata": {},
     "output_type": "execute_result"
    }
   ],
   "source": [
    "mu, sigma = 22.75, 10.36\n",
    "ap = np.random.normal(mu, sigma, 20)\n",
    "\n",
    "ap = np.rint(ap)\n",
    "\n",
    "ap = ap.astype(int)\n",
    "\n",
    "ap = np.sort(ap)\n",
    "\n",
    "ap"
   ]
  },
  {
   "cell_type": "code",
   "execution_count": null,
   "metadata": {},
   "outputs": [],
   "source": []
  }
 ],
 "metadata": {
  "kernelspec": {
   "display_name": "Python 3",
   "language": "python",
   "name": "python3"
  },
  "language_info": {
   "codemirror_mode": {
    "name": "ipython",
    "version": 3
   },
   "file_extension": ".py",
   "mimetype": "text/x-python",
   "name": "python",
   "nbconvert_exporter": "python",
   "pygments_lexer": "ipython3",
   "version": "3.7.3"
  }
 },
 "nbformat": 4,
 "nbformat_minor": 2
}
